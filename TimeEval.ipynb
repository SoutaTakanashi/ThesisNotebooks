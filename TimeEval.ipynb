{
  "nbformat": 4,
  "nbformat_minor": 0,
  "metadata": {
    "colab": {
      "provenance": [],
      "collapsed_sections": []
    },
    "kernelspec": {
      "name": "python3",
      "display_name": "Python 3"
    },
    "language_info": {
      "name": "python"
    },
    "gpuClass": "standard"
  },
  "cells": [
    {
      "cell_type": "markdown",
      "source": [
        "##Load Spectrogram Feature\n",
        "\n",
        "Used for my Spec_Conv2 Model"
      ],
      "metadata": {
        "id": "Jx6coRnWxhjC"
      }
    },
    {
      "cell_type": "code",
      "source": [
        "from sklearn.metrics import accuracy_score\n",
        "import tensorflow as tf\n",
        "import numpy as np\n",
        "from tqdm import tqdm\n",
        "\n",
        "from keras.models import load_model\n",
        "def generate_loader(i_val):\n",
        "    train_X = []\n",
        "    train_y=[]\n",
        "    X_test=[]\n",
        "    y_test=[]\n",
        "    for i in range(10):\n",
        "        if i + 1 == i_val:\n",
        "            X_test = np.load(\n",
        "                \"drive/MyDrive/Thesis_Keras/TenFoldDataset/datasetnpy/specConv1/specSTFT/\"+f\"fold{i + 1}\"+\"/X.npy\"\n",
        "                )\n",
        "            y_test=np.load(\n",
        "                \"drive/MyDrive/Thesis_Keras/TenFoldDataset/datasetnpy/specConv1/specSTFT/\"+f\"fold{i + 1}\"+\"/y.npy\"\n",
        "            )\n",
        "        else:\n",
        "            X_train = np.load(\n",
        "                \"drive/MyDrive/Thesis_Keras/TenFoldDataset/datasetnpy/specConv1/specSTFT/\"+f\"fold{i + 1}\"+\"/X.npy\"\n",
        "            )\n",
        "            y_train = np.load(\n",
        "                \"drive/MyDrive/Thesis_Keras/TenFoldDataset/datasetnpy/specConv1/specSTFT/\"+f\"fold{i + 1}\"+\"/y.npy\"\n",
        "            )\n",
        "\n",
        "            for item in X_train:\n",
        "                train_X.append(item)\n",
        "            for item in y_train:\n",
        "                train_y.append(item)\n",
        "\n",
        "    return np.array(train_X),np.array(train_y),np.array(X_test),np.array(y_test)"
      ],
      "metadata": {
        "id": "lpZxGhW6xsfA"
      },
      "execution_count": null,
      "outputs": []
    },
    {
      "cell_type": "markdown",
      "source": [
        "Load Train data"
      ],
      "metadata": {
        "id": "cpzkerPWyfTZ"
      }
    },
    {
      "cell_type": "code",
      "source": [
        "for i in tqdm(range(10)):\n",
        "  #from tensorflow.compat.v1.keras import backend as K\n",
        "  import tensorflow as tf\n",
        "\n",
        "  import os\n",
        "  import psutil\n",
        "\n",
        "  X_test =np.load(\"drive/MyDrive/Thesis_Keras/TenFoldDataset/datasetnpy/specConv1/specSTFT/\"+f\"fold{i + 1}\"+\"/X.npy\")\n",
        "  y_test=np.load(\"drive/MyDrive/Thesis_Keras/TenFoldDataset/datasetnpy/specConv1/specSTFT/\"+f\"fold{i + 1}\"+\"/y.npy\")\n",
        "  \n",
        "  modelpath=\"/content/drive/MyDrive/Thesis_Keras/\"+\"model/saved/specConv1avecspecSTFT\"+f\"fold{i+1}\"+\".h5\"\n",
        "  model=load_model(modelpath)\n",
        "  model.summary()\n",
        "  import time\n",
        "  start = time.clock()\n",
        "\n",
        "  pre_y = model.predict(X_test)\n",
        "  end =  time.clock()\n",
        "  print(\"CPU Time: \", end - start)\n",
        "\n",
        "  numofY=pre_y.shape[0]\n",
        "  print(\"Number of predictions:\",numofY)\n",
        "  print(\"Average running time for a sample:\",(end - start)/numofY)\n",
        "  pre_New=np.argmax(pre_y)\n",
        "  \n",
        "  print(f\"Fold {i} finished!\")\n",
        "  print(u'当前进程的内存使用：%.4f GB' % (psutil.Process(os.getpid()).memory_info().rss / 1024 / 1024 / 1024) )\n"
      ],
      "metadata": {
        "colab": {
          "base_uri": "https://localhost:8080/"
        },
        "id": "P8kn-Y-sx66K",
        "outputId": "221c06a9-1028-49eb-8bad-460b71e51598"
      },
      "execution_count": null,
      "outputs": [
        {
          "output_type": "stream",
          "name": "stderr",
          "text": [
            "\r  0%|          | 0/10 [00:00<?, ?it/s]"
          ]
        },
        {
          "output_type": "stream",
          "name": "stdout",
          "text": [
            "Model: \"sequential\"\n",
            "_________________________________________________________________\n",
            " Layer (type)                Output Shape              Param #   \n",
            "=================================================================\n",
            " reshape (Reshape)           (None, 65, 99, 1)         0         \n",
            "                                                                 \n",
            " conv2d (Conv2D)             (None, 65, 99, 24)        624       \n",
            "                                                                 \n",
            " max_pooling2d (MaxPooling2D  (None, 33, 50, 24)       0         \n",
            " )                                                               \n",
            "                                                                 \n",
            " conv2d_1 (Conv2D)           (None, 33, 50, 48)        28848     \n",
            "                                                                 \n",
            " max_pooling2d_1 (MaxPooling  (None, 17, 25, 48)       0         \n",
            " 2D)                                                             \n",
            "                                                                 \n",
            " conv2d_2 (Conv2D)           (None, 17, 25, 64)        27712     \n",
            "                                                                 \n",
            " max_pooling2d_2 (MaxPooling  (None, 9, 13, 64)        0         \n",
            " 2D)                                                             \n",
            "                                                                 \n",
            " dropout (Dropout)           (None, 9, 13, 64)         0         \n",
            "                                                                 \n",
            " flatten (Flatten)           (None, 7488)              0         \n",
            "                                                                 \n",
            " dropout_1 (Dropout)         (None, 7488)              0         \n",
            "                                                                 \n",
            " y_pred (Dense)              (None, 10)                74890     \n",
            "                                                                 \n",
            "=================================================================\n",
            "Total params: 132,074\n",
            "Trainable params: 132,074\n",
            "Non-trainable params: 0\n",
            "_________________________________________________________________\n"
          ]
        },
        {
          "output_type": "stream",
          "name": "stderr",
          "text": [
            "/usr/local/lib/python3.7/dist-packages/ipykernel_launcher.py:15: DeprecationWarning: time.clock has been deprecated in Python 3.3 and will be removed from Python 3.8: use time.perf_counter or time.process_time instead\n",
            "  from ipykernel import kernelapp as app\n",
            "/usr/local/lib/python3.7/dist-packages/ipykernel_launcher.py:18: DeprecationWarning: time.clock has been deprecated in Python 3.3 and will be removed from Python 3.8: use time.perf_counter or time.process_time instead\n",
            " 10%|█         | 1/10 [00:03<00:29,  3.27s/it]"
          ]
        },
        {
          "output_type": "stream",
          "name": "stdout",
          "text": [
            "CPU Time:  5.448843000000011\n",
            "Number of predictions: 779\n",
            "Average running time for a sample: 0.0069946636713735695\n",
            "Fold 0 finished!\n",
            "当前进程的内存使用：4.0696 GB\n",
            "Model: \"sequential_2\"\n",
            "_________________________________________________________________\n",
            " Layer (type)                Output Shape              Param #   \n",
            "=================================================================\n",
            " reshape_2 (Reshape)         (None, 65, 99, 1)         0         \n",
            "                                                                 \n",
            " conv2d_6 (Conv2D)           (None, 65, 99, 24)        624       \n",
            "                                                                 \n",
            " max_pooling2d_6 (MaxPooling  (None, 33, 50, 24)       0         \n",
            " 2D)                                                             \n",
            "                                                                 \n",
            " conv2d_7 (Conv2D)           (None, 33, 50, 48)        28848     \n",
            "                                                                 \n",
            " max_pooling2d_7 (MaxPooling  (None, 17, 25, 48)       0         \n",
            " 2D)                                                             \n",
            "                                                                 \n",
            " conv2d_8 (Conv2D)           (None, 17, 25, 64)        27712     \n",
            "                                                                 \n",
            " max_pooling2d_8 (MaxPooling  (None, 9, 13, 64)        0         \n",
            " 2D)                                                             \n",
            "                                                                 \n",
            " dropout_4 (Dropout)         (None, 9, 13, 64)         0         \n",
            "                                                                 \n",
            " flatten_2 (Flatten)         (None, 7488)              0         \n",
            "                                                                 \n",
            " dropout_5 (Dropout)         (None, 7488)              0         \n",
            "                                                                 \n",
            " y_pred (Dense)              (None, 10)                74890     \n",
            "                                                                 \n",
            "=================================================================\n",
            "Total params: 132,074\n",
            "Trainable params: 132,074\n",
            "Non-trainable params: 0\n",
            "_________________________________________________________________\n"
          ]
        },
        {
          "output_type": "stream",
          "name": "stderr",
          "text": [
            "\r 20%|██        | 2/10 [00:12<00:55,  6.92s/it]"
          ]
        },
        {
          "output_type": "stream",
          "name": "stdout",
          "text": [
            "CPU Time:  5.6803409999999985\n",
            "Number of predictions: 776\n",
            "Average running time for a sample: 0.007320027061855668\n",
            "Fold 1 finished!\n",
            "当前进程的内存使用：4.0718 GB\n",
            "Model: \"sequential_4\"\n",
            "_________________________________________________________________\n",
            " Layer (type)                Output Shape              Param #   \n",
            "=================================================================\n",
            " reshape_4 (Reshape)         (None, 65, 99, 1)         0         \n",
            "                                                                 \n",
            " conv2d_12 (Conv2D)          (None, 65, 99, 24)        624       \n",
            "                                                                 \n",
            " max_pooling2d_12 (MaxPoolin  (None, 33, 50, 24)       0         \n",
            " g2D)                                                            \n",
            "                                                                 \n",
            " conv2d_13 (Conv2D)          (None, 33, 50, 48)        28848     \n",
            "                                                                 \n",
            " max_pooling2d_13 (MaxPoolin  (None, 17, 25, 48)       0         \n",
            " g2D)                                                            \n",
            "                                                                 \n",
            " conv2d_14 (Conv2D)          (None, 17, 25, 64)        27712     \n",
            "                                                                 \n",
            " max_pooling2d_14 (MaxPoolin  (None, 9, 13, 64)        0         \n",
            " g2D)                                                            \n",
            "                                                                 \n",
            " dropout_8 (Dropout)         (None, 9, 13, 64)         0         \n",
            "                                                                 \n",
            " flatten_4 (Flatten)         (None, 7488)              0         \n",
            "                                                                 \n",
            " dropout_9 (Dropout)         (None, 7488)              0         \n",
            "                                                                 \n",
            " y_pred (Dense)              (None, 10)                74890     \n",
            "                                                                 \n",
            "=================================================================\n",
            "Total params: 132,074\n",
            "Trainable params: 132,074\n",
            "Non-trainable params: 0\n",
            "_________________________________________________________________\n"
          ]
        },
        {
          "output_type": "stream",
          "name": "stderr",
          "text": [
            "\r 30%|███       | 3/10 [00:16<00:39,  5.64s/it]"
          ]
        },
        {
          "output_type": "stream",
          "name": "stdout",
          "text": [
            "CPU Time:  5.754775999999993\n",
            "Number of predictions: 838\n",
            "Average running time for a sample: 0.006867274463007151\n",
            "Fold 2 finished!\n",
            "当前进程的内存使用：4.0722 GB\n",
            "Model: \"sequential_6\"\n",
            "_________________________________________________________________\n",
            " Layer (type)                Output Shape              Param #   \n",
            "=================================================================\n",
            " reshape_6 (Reshape)         (None, 65, 99, 1)         0         \n",
            "                                                                 \n",
            " conv2d_18 (Conv2D)          (None, 65, 99, 24)        624       \n",
            "                                                                 \n",
            " max_pooling2d_18 (MaxPoolin  (None, 33, 50, 24)       0         \n",
            " g2D)                                                            \n",
            "                                                                 \n",
            " conv2d_19 (Conv2D)          (None, 33, 50, 48)        28848     \n",
            "                                                                 \n",
            " max_pooling2d_19 (MaxPoolin  (None, 17, 25, 48)       0         \n",
            " g2D)                                                            \n",
            "                                                                 \n",
            " conv2d_20 (Conv2D)          (None, 17, 25, 64)        27712     \n",
            "                                                                 \n",
            " max_pooling2d_20 (MaxPoolin  (None, 9, 13, 64)        0         \n",
            " g2D)                                                            \n",
            "                                                                 \n",
            " dropout_12 (Dropout)        (None, 9, 13, 64)         0         \n",
            "                                                                 \n",
            " flatten_6 (Flatten)         (None, 7488)              0         \n",
            "                                                                 \n",
            " dropout_13 (Dropout)        (None, 7488)              0         \n",
            "                                                                 \n",
            " y_pred (Dense)              (None, 10)                74890     \n",
            "                                                                 \n",
            "=================================================================\n",
            "Total params: 132,074\n",
            "Trainable params: 132,074\n",
            "Non-trainable params: 0\n",
            "_________________________________________________________________\n"
          ]
        },
        {
          "output_type": "stream",
          "name": "stderr",
          "text": [
            "\r 40%|████      | 4/10 [00:20<00:28,  4.82s/it]"
          ]
        },
        {
          "output_type": "stream",
          "name": "stdout",
          "text": [
            "CPU Time:  6.001435000000015\n",
            "Number of predictions: 872\n",
            "Average running time for a sample: 0.00688237958715598\n",
            "Fold 3 finished!\n",
            "当前进程的内存使用：4.0728 GB\n",
            "Model: \"sequential_8\"\n",
            "_________________________________________________________________\n",
            " Layer (type)                Output Shape              Param #   \n",
            "=================================================================\n",
            " reshape_8 (Reshape)         (None, 65, 99, 1)         0         \n",
            "                                                                 \n",
            " conv2d_24 (Conv2D)          (None, 65, 99, 24)        624       \n",
            "                                                                 \n",
            " max_pooling2d_24 (MaxPoolin  (None, 33, 50, 24)       0         \n",
            " g2D)                                                            \n",
            "                                                                 \n",
            " conv2d_25 (Conv2D)          (None, 33, 50, 48)        28848     \n",
            "                                                                 \n",
            " max_pooling2d_25 (MaxPoolin  (None, 17, 25, 48)       0         \n",
            " g2D)                                                            \n",
            "                                                                 \n",
            " conv2d_26 (Conv2D)          (None, 17, 25, 64)        27712     \n",
            "                                                                 \n",
            " max_pooling2d_26 (MaxPoolin  (None, 9, 13, 64)        0         \n",
            " g2D)                                                            \n",
            "                                                                 \n",
            " dropout_16 (Dropout)        (None, 9, 13, 64)         0         \n",
            "                                                                 \n",
            " flatten_8 (Flatten)         (None, 7488)              0         \n",
            "                                                                 \n",
            " dropout_17 (Dropout)        (None, 7488)              0         \n",
            "                                                                 \n",
            " y_pred (Dense)              (None, 10)                74890     \n",
            "                                                                 \n",
            "=================================================================\n",
            "Total params: 132,074\n",
            "Trainable params: 132,074\n",
            "Non-trainable params: 0\n",
            "_________________________________________________________________\n"
          ]
        },
        {
          "output_type": "stream",
          "name": "stderr",
          "text": [
            "\r 50%|█████     | 5/10 [00:23<00:21,  4.29s/it]"
          ]
        },
        {
          "output_type": "stream",
          "name": "stdout",
          "text": [
            "CPU Time:  5.606959000000074\n",
            "Number of predictions: 809\n",
            "Average running time for a sample: 0.006930728059332601\n",
            "Fold 4 finished!\n",
            "当前进程的内存使用：4.0730 GB\n",
            "Model: \"sequential_10\"\n",
            "_________________________________________________________________\n",
            " Layer (type)                Output Shape              Param #   \n",
            "=================================================================\n",
            " reshape_10 (Reshape)        (None, 65, 99, 1)         0         \n",
            "                                                                 \n",
            " conv2d_30 (Conv2D)          (None, 65, 99, 24)        624       \n",
            "                                                                 \n",
            " max_pooling2d_30 (MaxPoolin  (None, 33, 50, 24)       0         \n",
            " g2D)                                                            \n",
            "                                                                 \n",
            " conv2d_31 (Conv2D)          (None, 33, 50, 48)        28848     \n",
            "                                                                 \n",
            " max_pooling2d_31 (MaxPoolin  (None, 17, 25, 48)       0         \n",
            " g2D)                                                            \n",
            "                                                                 \n",
            " conv2d_32 (Conv2D)          (None, 17, 25, 64)        27712     \n",
            "                                                                 \n",
            " max_pooling2d_32 (MaxPoolin  (None, 9, 13, 64)        0         \n",
            " g2D)                                                            \n",
            "                                                                 \n",
            " dropout_20 (Dropout)        (None, 9, 13, 64)         0         \n",
            "                                                                 \n",
            " flatten_10 (Flatten)        (None, 7488)              0         \n",
            "                                                                 \n",
            " dropout_21 (Dropout)        (None, 7488)              0         \n",
            "                                                                 \n",
            " y_pred (Dense)              (None, 10)                74890     \n",
            "                                                                 \n",
            "=================================================================\n",
            "Total params: 132,074\n",
            "Trainable params: 132,074\n",
            "Non-trainable params: 0\n",
            "_________________________________________________________________\n"
          ]
        },
        {
          "output_type": "stream",
          "name": "stderr",
          "text": [
            "\r 60%|██████    | 6/10 [00:26<00:15,  3.88s/it]"
          ]
        },
        {
          "output_type": "stream",
          "name": "stdout",
          "text": [
            "CPU Time:  5.060872000000018\n",
            "Number of predictions: 720\n",
            "Average running time for a sample: 0.007028988888888913\n",
            "Fold 5 finished!\n",
            "当前进程的内存使用：4.0736 GB\n",
            "Model: \"sequential_12\"\n",
            "_________________________________________________________________\n",
            " Layer (type)                Output Shape              Param #   \n",
            "=================================================================\n",
            " reshape_12 (Reshape)        (None, 65, 99, 1)         0         \n",
            "                                                                 \n",
            " conv2d_36 (Conv2D)          (None, 65, 99, 24)        624       \n",
            "                                                                 \n",
            " max_pooling2d_36 (MaxPoolin  (None, 33, 50, 24)       0         \n",
            " g2D)                                                            \n",
            "                                                                 \n",
            " conv2d_37 (Conv2D)          (None, 33, 50, 48)        28848     \n",
            "                                                                 \n",
            " max_pooling2d_37 (MaxPoolin  (None, 17, 25, 48)       0         \n",
            " g2D)                                                            \n",
            "                                                                 \n",
            " conv2d_38 (Conv2D)          (None, 17, 25, 64)        27712     \n",
            "                                                                 \n",
            " max_pooling2d_38 (MaxPoolin  (None, 9, 13, 64)        0         \n",
            " g2D)                                                            \n",
            "                                                                 \n",
            " dropout_24 (Dropout)        (None, 9, 13, 64)         0         \n",
            "                                                                 \n",
            " flatten_12 (Flatten)        (None, 7488)              0         \n",
            "                                                                 \n",
            " dropout_25 (Dropout)        (None, 7488)              0         \n",
            "                                                                 \n",
            " y_pred (Dense)              (None, 10)                74890     \n",
            "                                                                 \n",
            "=================================================================\n",
            "Total params: 132,074\n",
            "Trainable params: 132,074\n",
            "Non-trainable params: 0\n",
            "_________________________________________________________________\n"
          ]
        },
        {
          "output_type": "stream",
          "name": "stderr",
          "text": [
            "\r 70%|███████   | 7/10 [00:29<00:10,  3.64s/it]"
          ]
        },
        {
          "output_type": "stream",
          "name": "stdout",
          "text": [
            "CPU Time:  5.273314000000028\n",
            "Number of predictions: 759\n",
            "Average running time for a sample: 0.006947712779973686\n",
            "Fold 6 finished!\n",
            "当前进程的内存使用：4.0738 GB\n",
            "Model: \"sequential_14\"\n",
            "_________________________________________________________________\n",
            " Layer (type)                Output Shape              Param #   \n",
            "=================================================================\n",
            " reshape_14 (Reshape)        (None, 65, 99, 1)         0         \n",
            "                                                                 \n",
            " conv2d_42 (Conv2D)          (None, 65, 99, 24)        624       \n",
            "                                                                 \n",
            " max_pooling2d_42 (MaxPoolin  (None, 33, 50, 24)       0         \n",
            " g2D)                                                            \n",
            "                                                                 \n",
            " conv2d_43 (Conv2D)          (None, 33, 50, 48)        28848     \n",
            "                                                                 \n",
            " max_pooling2d_43 (MaxPoolin  (None, 17, 25, 48)       0         \n",
            " g2D)                                                            \n",
            "                                                                 \n",
            " conv2d_44 (Conv2D)          (None, 17, 25, 64)        27712     \n",
            "                                                                 \n",
            " max_pooling2d_44 (MaxPoolin  (None, 9, 13, 64)        0         \n",
            " g2D)                                                            \n",
            "                                                                 \n",
            " dropout_28 (Dropout)        (None, 9, 13, 64)         0         \n",
            "                                                                 \n",
            " flatten_14 (Flatten)        (None, 7488)              0         \n",
            "                                                                 \n",
            " dropout_29 (Dropout)        (None, 7488)              0         \n",
            "                                                                 \n",
            " y_pred (Dense)              (None, 10)                74890     \n",
            "                                                                 \n",
            "=================================================================\n",
            "Total params: 132,074\n",
            "Trainable params: 132,074\n",
            "Non-trainable params: 0\n",
            "_________________________________________________________________\n"
          ]
        },
        {
          "output_type": "stream",
          "name": "stderr",
          "text": [
            "\r 80%|████████  | 8/10 [00:32<00:06,  3.43s/it]"
          ]
        },
        {
          "output_type": "stream",
          "name": "stdout",
          "text": [
            "CPU Time:  4.961594999999988\n",
            "Number of predictions: 713\n",
            "Average running time for a sample: 0.006958758765778385\n",
            "Fold 7 finished!\n",
            "当前进程的内存使用：4.0742 GB\n",
            "Model: \"sequential_16\"\n",
            "_________________________________________________________________\n",
            " Layer (type)                Output Shape              Param #   \n",
            "=================================================================\n",
            " reshape_16 (Reshape)        (None, 65, 99, 1)         0         \n",
            "                                                                 \n",
            " conv2d_48 (Conv2D)          (None, 65, 99, 24)        624       \n",
            "                                                                 \n",
            " max_pooling2d_48 (MaxPoolin  (None, 33, 50, 24)       0         \n",
            " g2D)                                                            \n",
            "                                                                 \n",
            " conv2d_49 (Conv2D)          (None, 33, 50, 48)        28848     \n",
            "                                                                 \n",
            " max_pooling2d_49 (MaxPoolin  (None, 17, 25, 48)       0         \n",
            " g2D)                                                            \n",
            "                                                                 \n",
            " conv2d_50 (Conv2D)          (None, 17, 25, 64)        27712     \n",
            "                                                                 \n",
            " max_pooling2d_50 (MaxPoolin  (None, 9, 13, 64)        0         \n",
            " g2D)                                                            \n",
            "                                                                 \n",
            " dropout_32 (Dropout)        (None, 9, 13, 64)         0         \n",
            "                                                                 \n",
            " flatten_16 (Flatten)        (None, 7488)              0         \n",
            "                                                                 \n",
            " dropout_33 (Dropout)        (None, 7488)              0         \n",
            "                                                                 \n",
            " y_pred (Dense)              (None, 10)                74890     \n",
            "                                                                 \n",
            "=================================================================\n",
            "Total params: 132,074\n",
            "Trainable params: 132,074\n",
            "Non-trainable params: 0\n",
            "_________________________________________________________________\n"
          ]
        },
        {
          "output_type": "stream",
          "name": "stderr",
          "text": [
            "\r 90%|█████████ | 9/10 [00:36<00:03,  3.32s/it]"
          ]
        },
        {
          "output_type": "stream",
          "name": "stdout",
          "text": [
            "CPU Time:  5.116728999999964\n",
            "Number of predictions: 735\n",
            "Average running time for a sample: 0.00696153605442172\n",
            "Fold 8 finished!\n",
            "当前进程的内存使用：4.0744 GB\n",
            "Model: \"sequential_18\"\n",
            "_________________________________________________________________\n",
            " Layer (type)                Output Shape              Param #   \n",
            "=================================================================\n",
            " reshape_18 (Reshape)        (None, 65, 99, 1)         0         \n",
            "                                                                 \n",
            " conv2d_54 (Conv2D)          (None, 65, 99, 24)        624       \n",
            "                                                                 \n",
            " max_pooling2d_54 (MaxPoolin  (None, 33, 50, 24)       0         \n",
            " g2D)                                                            \n",
            "                                                                 \n",
            " conv2d_55 (Conv2D)          (None, 33, 50, 48)        28848     \n",
            "                                                                 \n",
            " max_pooling2d_55 (MaxPoolin  (None, 17, 25, 48)       0         \n",
            " g2D)                                                            \n",
            "                                                                 \n",
            " conv2d_56 (Conv2D)          (None, 17, 25, 64)        27712     \n",
            "                                                                 \n",
            " max_pooling2d_56 (MaxPoolin  (None, 9, 13, 64)        0         \n",
            " g2D)                                                            \n",
            "                                                                 \n",
            " dropout_36 (Dropout)        (None, 9, 13, 64)         0         \n",
            "                                                                 \n",
            " flatten_18 (Flatten)        (None, 7488)              0         \n",
            "                                                                 \n",
            " dropout_37 (Dropout)        (None, 7488)              0         \n",
            "                                                                 \n",
            " y_pred (Dense)              (None, 10)                74890     \n",
            "                                                                 \n",
            "=================================================================\n",
            "Total params: 132,074\n",
            "Trainable params: 132,074\n",
            "Non-trainable params: 0\n",
            "_________________________________________________________________\n"
          ]
        },
        {
          "output_type": "stream",
          "name": "stderr",
          "text": [
            "100%|██████████| 10/10 [00:39<00:00,  3.92s/it]"
          ]
        },
        {
          "output_type": "stream",
          "name": "stdout",
          "text": [
            "CPU Time:  5.21077200000002\n",
            "Number of predictions: 749\n",
            "Average running time for a sample: 0.006956971962616849\n",
            "Fold 9 finished!\n",
            "当前进程的内存使用：4.0749 GB\n"
          ]
        },
        {
          "output_type": "stream",
          "name": "stderr",
          "text": [
            "\n"
          ]
        }
      ]
    },
    {
      "cell_type": "code",
      "source": [
        "i=4\n",
        "X_test =np.load(\"drive/MyDrive/Thesis_Keras/TenFoldDataset/datasetnpy/specConv1/specSTFT/\"+f\"fold{i + 1}\"+\"/X.npy\")\n",
        "y_test=np.load(\"drive/MyDrive/Thesis_Keras/TenFoldDataset/datasetnpy/specConv1/specSTFT/\"+f\"fold{i + 1}\"+\"/y.npy\")\n",
        "print(X_test.shape) \n",
        "modelpath=\"/content/drive/MyDrive/Thesis_Keras/\"+\"model/saved/specConv1avecspecSTFT\"+f\"fold{i+1}\"+\".h5\"\n",
        "model=load_model(modelpath)\n",
        "model.summary()\n",
        "\n"
      ],
      "metadata": {
        "colab": {
          "base_uri": "https://localhost:8080/"
        },
        "id": "19_tBN-UyDKy",
        "outputId": "67245256-af80-4324-a7c5-bf9fe5f32e2d"
      },
      "execution_count": null,
      "outputs": [
        {
          "output_type": "stream",
          "name": "stdout",
          "text": [
            "(809, 65, 99)\n",
            "Model: \"sequential_8\"\n",
            "_________________________________________________________________\n",
            " Layer (type)                Output Shape              Param #   \n",
            "=================================================================\n",
            " reshape_8 (Reshape)         (None, 65, 99, 1)         0         \n",
            "                                                                 \n",
            " conv2d_24 (Conv2D)          (None, 65, 99, 24)        624       \n",
            "                                                                 \n",
            " max_pooling2d_24 (MaxPoolin  (None, 33, 50, 24)       0         \n",
            " g2D)                                                            \n",
            "                                                                 \n",
            " conv2d_25 (Conv2D)          (None, 33, 50, 48)        28848     \n",
            "                                                                 \n",
            " max_pooling2d_25 (MaxPoolin  (None, 17, 25, 48)       0         \n",
            " g2D)                                                            \n",
            "                                                                 \n",
            " conv2d_26 (Conv2D)          (None, 17, 25, 64)        27712     \n",
            "                                                                 \n",
            " max_pooling2d_26 (MaxPoolin  (None, 9, 13, 64)        0         \n",
            " g2D)                                                            \n",
            "                                                                 \n",
            " dropout_16 (Dropout)        (None, 9, 13, 64)         0         \n",
            "                                                                 \n",
            " flatten_8 (Flatten)         (None, 7488)              0         \n",
            "                                                                 \n",
            " dropout_17 (Dropout)        (None, 7488)              0         \n",
            "                                                                 \n",
            " y_pred (Dense)              (None, 10)                74890     \n",
            "                                                                 \n",
            "=================================================================\n",
            "Total params: 132,074\n",
            "Trainable params: 132,074\n",
            "Non-trainable params: 0\n",
            "_________________________________________________________________\n"
          ]
        }
      ]
    },
    {
      "cell_type": "markdown",
      "source": [
        "Running time for MFCCConv2D"
      ],
      "metadata": {
        "id": "9fOvRyD0BTj8"
      }
    },
    {
      "cell_type": "code",
      "source": [
        "from tqdm import tqdm\n",
        "from sklearn.metrics import accuracy_score\n",
        "import tensorflow as tf\n",
        "import numpy as np\n",
        "\n",
        "from keras.models import load_model"
      ],
      "metadata": {
        "id": "3T-9VH4IBXME"
      },
      "execution_count": null,
      "outputs": []
    },
    {
      "cell_type": "code",
      "source": [
        "for i in tqdm(range(10)):\n",
        "  #from tensorflow.compat.v1.keras import backend as K\n",
        "  import tensorflow as tf\n",
        "\n",
        "  import os\n",
        "  import psutil\n",
        "\n",
        "  X_test =np.load(\"/content/drive/MyDrive/Thesis_Keras/TenFoldDataset/datasetnpy/mfccConv2d/mfcc40x80/\"+f\"fold{i + 1}\"+\"/X.npy\")\n",
        "  y_test=np.load(\"/content/drive/MyDrive/Thesis_Keras/TenFoldDataset/datasetnpy/mfccConv2d/mfcc40x80/\"+f\"fold{i + 1}\"+\"/y.npy\")\n",
        "  \n",
        "  modelPth=\"/content/drive/MyDrive/Thesis_Keras/\"+\"model/saved/MFCCConv2D\"+\"fold4\"+\".h5\"\n",
        "  model=load_model(modelPth)\n",
        "  model.summary()\n",
        "  import time\n",
        "  start = time.clock()\n",
        "\n",
        "  pre_y = model.predict(X_test)\n",
        "  end =  time.clock()\n",
        "  print(\"CPU Time: \", end - start)\n",
        "\n",
        "  numofY=pre_y.shape[0]\n",
        "  print(\"Number of predictions:\",numofY)\n",
        "  print(\"Average running time for a sample:\",(end - start)/numofY)\n",
        "  pre_New=np.argmax(pre_y)\n",
        "  \n",
        "  print(f\"Fold {i} finished!\")\n",
        "  print(u'当前进程的内存使用：%.4f GB' % (psutil.Process(os.getpid()).memory_info().rss / 1024 / 1024 / 1024) )\n"
      ],
      "metadata": {
        "colab": {
          "base_uri": "https://localhost:8080/"
        },
        "id": "8FZXDvkgBr9a",
        "outputId": "b80676f1-7eac-4dc5-9033-f98b1d1da35a"
      },
      "execution_count": null,
      "outputs": [
        {
          "output_type": "stream",
          "name": "stderr",
          "text": [
            "\r  0%|          | 0/10 [00:00<?, ?it/s]"
          ]
        },
        {
          "output_type": "stream",
          "name": "stdout",
          "text": [
            "Model: \"sequential_6\"\n",
            "_________________________________________________________________\n",
            " Layer (type)                Output Shape              Param #   \n",
            "=================================================================\n",
            " reshape_6 (Reshape)         (None, 63, 40, 1)         0         \n",
            "                                                                 \n",
            " conv2d_18 (Conv2D)          (None, 63, 40, 24)        624       \n",
            "                                                                 \n",
            " max_pooling2d_18 (MaxPoolin  (None, 32, 20, 24)       0         \n",
            " g2D)                                                            \n",
            "                                                                 \n",
            " conv2d_19 (Conv2D)          (None, 32, 20, 36)        7812      \n",
            "                                                                 \n",
            " max_pooling2d_19 (MaxPoolin  (None, 16, 10, 36)       0         \n",
            " g2D)                                                            \n",
            "                                                                 \n",
            " conv2d_20 (Conv2D)          (None, 16, 10, 48)        15600     \n",
            "                                                                 \n",
            " max_pooling2d_20 (MaxPoolin  (None, 8, 5, 48)         0         \n",
            " g2D)                                                            \n",
            "                                                                 \n",
            " flatten_6 (Flatten)         (None, 1920)              0         \n",
            "                                                                 \n",
            " dropout_6 (Dropout)         (None, 1920)              0         \n",
            "                                                                 \n",
            " dense_6 (Dense)             (None, 40)                76840     \n",
            "                                                                 \n",
            " y_pred (Dense)              (None, 10)                410       \n",
            "                                                                 \n",
            "=================================================================\n",
            "Total params: 101,286\n",
            "Trainable params: 101,286\n",
            "Non-trainable params: 0\n",
            "_________________________________________________________________\n"
          ]
        },
        {
          "output_type": "stream",
          "name": "stderr",
          "text": [
            "/usr/local/lib/python3.7/dist-packages/ipykernel_launcher.py:15: DeprecationWarning: time.clock has been deprecated in Python 3.3 and will be removed from Python 3.8: use time.perf_counter or time.process_time instead\n",
            "  from ipykernel import kernelapp as app\n",
            "/usr/local/lib/python3.7/dist-packages/ipykernel_launcher.py:18: DeprecationWarning: time.clock has been deprecated in Python 3.3 and will be removed from Python 3.8: use time.perf_counter or time.process_time instead\n",
            " 10%|█         | 1/10 [00:03<00:32,  3.57s/it]"
          ]
        },
        {
          "output_type": "stream",
          "name": "stdout",
          "text": [
            "CPU Time:  1.651432999999999\n",
            "Number of predictions: 779\n",
            "Average running time for a sample: 0.0021199396662387664\n",
            "Fold 0 finished!\n",
            "当前进程的内存使用：0.5744 GB\n",
            "Model: \"sequential_6\"\n",
            "_________________________________________________________________\n",
            " Layer (type)                Output Shape              Param #   \n",
            "=================================================================\n",
            " reshape_6 (Reshape)         (None, 63, 40, 1)         0         \n",
            "                                                                 \n",
            " conv2d_18 (Conv2D)          (None, 63, 40, 24)        624       \n",
            "                                                                 \n",
            " max_pooling2d_18 (MaxPoolin  (None, 32, 20, 24)       0         \n",
            " g2D)                                                            \n",
            "                                                                 \n",
            " conv2d_19 (Conv2D)          (None, 32, 20, 36)        7812      \n",
            "                                                                 \n",
            " max_pooling2d_19 (MaxPoolin  (None, 16, 10, 36)       0         \n",
            " g2D)                                                            \n",
            "                                                                 \n",
            " conv2d_20 (Conv2D)          (None, 16, 10, 48)        15600     \n",
            "                                                                 \n",
            " max_pooling2d_20 (MaxPoolin  (None, 8, 5, 48)         0         \n",
            " g2D)                                                            \n",
            "                                                                 \n",
            " flatten_6 (Flatten)         (None, 1920)              0         \n",
            "                                                                 \n",
            " dropout_6 (Dropout)         (None, 1920)              0         \n",
            "                                                                 \n",
            " dense_6 (Dense)             (None, 40)                76840     \n",
            "                                                                 \n",
            " y_pred (Dense)              (None, 10)                410       \n",
            "                                                                 \n",
            "=================================================================\n",
            "Total params: 101,286\n",
            "Trainable params: 101,286\n",
            "Non-trainable params: 0\n",
            "_________________________________________________________________\n"
          ]
        },
        {
          "output_type": "stream",
          "name": "stderr",
          "text": [
            "\r 20%|██        | 2/10 [00:05<00:20,  2.56s/it]"
          ]
        },
        {
          "output_type": "stream",
          "name": "stdout",
          "text": [
            "CPU Time:  1.5620460000000005\n",
            "Number of predictions: 776\n",
            "Average running time for a sample: 0.0020129458762886605\n",
            "Fold 1 finished!\n",
            "当前进程的内存使用：0.5822 GB\n",
            "Model: \"sequential_6\"\n",
            "_________________________________________________________________\n",
            " Layer (type)                Output Shape              Param #   \n",
            "=================================================================\n",
            " reshape_6 (Reshape)         (None, 63, 40, 1)         0         \n",
            "                                                                 \n",
            " conv2d_18 (Conv2D)          (None, 63, 40, 24)        624       \n",
            "                                                                 \n",
            " max_pooling2d_18 (MaxPoolin  (None, 32, 20, 24)       0         \n",
            " g2D)                                                            \n",
            "                                                                 \n",
            " conv2d_19 (Conv2D)          (None, 32, 20, 36)        7812      \n",
            "                                                                 \n",
            " max_pooling2d_19 (MaxPoolin  (None, 16, 10, 36)       0         \n",
            " g2D)                                                            \n",
            "                                                                 \n",
            " conv2d_20 (Conv2D)          (None, 16, 10, 48)        15600     \n",
            "                                                                 \n",
            " max_pooling2d_20 (MaxPoolin  (None, 8, 5, 48)         0         \n",
            " g2D)                                                            \n",
            "                                                                 \n",
            " flatten_6 (Flatten)         (None, 1920)              0         \n",
            "                                                                 \n",
            " dropout_6 (Dropout)         (None, 1920)              0         \n",
            "                                                                 \n",
            " dense_6 (Dense)             (None, 40)                76840     \n",
            "                                                                 \n",
            " y_pred (Dense)              (None, 10)                410       \n",
            "                                                                 \n",
            "=================================================================\n",
            "Total params: 101,286\n",
            "Trainable params: 101,286\n",
            "Non-trainable params: 0\n",
            "_________________________________________________________________\n"
          ]
        },
        {
          "output_type": "stream",
          "name": "stderr",
          "text": [
            "\r 30%|███       | 3/10 [00:07<00:17,  2.50s/it]"
          ]
        },
        {
          "output_type": "stream",
          "name": "stdout",
          "text": [
            "CPU Time:  1.6149459999999998\n",
            "Number of predictions: 838\n",
            "Average running time for a sample: 0.001927143198090692\n",
            "Fold 2 finished!\n",
            "当前进程的内存使用：0.5921 GB\n",
            "Model: \"sequential_6\"\n",
            "_________________________________________________________________\n",
            " Layer (type)                Output Shape              Param #   \n",
            "=================================================================\n",
            " reshape_6 (Reshape)         (None, 63, 40, 1)         0         \n",
            "                                                                 \n",
            " conv2d_18 (Conv2D)          (None, 63, 40, 24)        624       \n",
            "                                                                 \n",
            " max_pooling2d_18 (MaxPoolin  (None, 32, 20, 24)       0         \n",
            " g2D)                                                            \n",
            "                                                                 \n",
            " conv2d_19 (Conv2D)          (None, 32, 20, 36)        7812      \n",
            "                                                                 \n",
            " max_pooling2d_19 (MaxPoolin  (None, 16, 10, 36)       0         \n",
            " g2D)                                                            \n",
            "                                                                 \n",
            " conv2d_20 (Conv2D)          (None, 16, 10, 48)        15600     \n",
            "                                                                 \n",
            " max_pooling2d_20 (MaxPoolin  (None, 8, 5, 48)         0         \n",
            " g2D)                                                            \n",
            "                                                                 \n",
            " flatten_6 (Flatten)         (None, 1920)              0         \n",
            "                                                                 \n",
            " dropout_6 (Dropout)         (None, 1920)              0         \n",
            "                                                                 \n",
            " dense_6 (Dense)             (None, 40)                76840     \n",
            "                                                                 \n",
            " y_pred (Dense)              (None, 10)                410       \n",
            "                                                                 \n",
            "=================================================================\n",
            "Total params: 101,286\n",
            "Trainable params: 101,286\n",
            "Non-trainable params: 0\n",
            "_________________________________________________________________\n"
          ]
        },
        {
          "output_type": "stream",
          "name": "stderr",
          "text": [
            "\r 40%|████      | 4/10 [00:10<00:14,  2.42s/it]"
          ]
        },
        {
          "output_type": "stream",
          "name": "stdout",
          "text": [
            "CPU Time:  1.6839139999999997\n",
            "Number of predictions: 872\n",
            "Average running time for a sample: 0.0019310940366972474\n",
            "Fold 3 finished!\n",
            "当前进程的内存使用：0.6073 GB\n",
            "Model: \"sequential_6\"\n",
            "_________________________________________________________________\n",
            " Layer (type)                Output Shape              Param #   \n",
            "=================================================================\n",
            " reshape_6 (Reshape)         (None, 63, 40, 1)         0         \n",
            "                                                                 \n",
            " conv2d_18 (Conv2D)          (None, 63, 40, 24)        624       \n",
            "                                                                 \n",
            " max_pooling2d_18 (MaxPoolin  (None, 32, 20, 24)       0         \n",
            " g2D)                                                            \n",
            "                                                                 \n",
            " conv2d_19 (Conv2D)          (None, 32, 20, 36)        7812      \n",
            "                                                                 \n",
            " max_pooling2d_19 (MaxPoolin  (None, 16, 10, 36)       0         \n",
            " g2D)                                                            \n",
            "                                                                 \n",
            " conv2d_20 (Conv2D)          (None, 16, 10, 48)        15600     \n",
            "                                                                 \n",
            " max_pooling2d_20 (MaxPoolin  (None, 8, 5, 48)         0         \n",
            " g2D)                                                            \n",
            "                                                                 \n",
            " flatten_6 (Flatten)         (None, 1920)              0         \n",
            "                                                                 \n",
            " dropout_6 (Dropout)         (None, 1920)              0         \n",
            "                                                                 \n",
            " dense_6 (Dense)             (None, 40)                76840     \n",
            "                                                                 \n",
            " y_pred (Dense)              (None, 10)                410       \n",
            "                                                                 \n",
            "=================================================================\n",
            "Total params: 101,286\n",
            "Trainable params: 101,286\n",
            "Non-trainable params: 0\n",
            "_________________________________________________________________\n"
          ]
        },
        {
          "output_type": "stream",
          "name": "stderr",
          "text": [
            "\r 50%|█████     | 5/10 [00:12<00:12,  2.47s/it]"
          ]
        },
        {
          "output_type": "stream",
          "name": "stdout",
          "text": [
            "CPU Time:  1.556801\n",
            "Number of predictions: 809\n",
            "Average running time for a sample: 0.0019243522867737949\n",
            "Fold 4 finished!\n",
            "当前进程的内存使用：0.6078 GB\n",
            "Model: \"sequential_6\"\n",
            "_________________________________________________________________\n",
            " Layer (type)                Output Shape              Param #   \n",
            "=================================================================\n",
            " reshape_6 (Reshape)         (None, 63, 40, 1)         0         \n",
            "                                                                 \n",
            " conv2d_18 (Conv2D)          (None, 63, 40, 24)        624       \n",
            "                                                                 \n",
            " max_pooling2d_18 (MaxPoolin  (None, 32, 20, 24)       0         \n",
            " g2D)                                                            \n",
            "                                                                 \n",
            " conv2d_19 (Conv2D)          (None, 32, 20, 36)        7812      \n",
            "                                                                 \n",
            " max_pooling2d_19 (MaxPoolin  (None, 16, 10, 36)       0         \n",
            " g2D)                                                            \n",
            "                                                                 \n",
            " conv2d_20 (Conv2D)          (None, 16, 10, 48)        15600     \n",
            "                                                                 \n",
            " max_pooling2d_20 (MaxPoolin  (None, 8, 5, 48)         0         \n",
            " g2D)                                                            \n",
            "                                                                 \n",
            " flatten_6 (Flatten)         (None, 1920)              0         \n",
            "                                                                 \n",
            " dropout_6 (Dropout)         (None, 1920)              0         \n",
            "                                                                 \n",
            " dense_6 (Dense)             (None, 40)                76840     \n",
            "                                                                 \n",
            " y_pred (Dense)              (None, 10)                410       \n",
            "                                                                 \n",
            "=================================================================\n",
            "Total params: 101,286\n",
            "Trainable params: 101,286\n",
            "Non-trainable params: 0\n",
            "_________________________________________________________________\n"
          ]
        },
        {
          "output_type": "stream",
          "name": "stderr",
          "text": [
            "\r 60%|██████    | 6/10 [00:14<00:09,  2.38s/it]"
          ]
        },
        {
          "output_type": "stream",
          "name": "stdout",
          "text": [
            "CPU Time:  1.4446750000000002\n",
            "Number of predictions: 720\n",
            "Average running time for a sample: 0.0020064930555555556\n",
            "Fold 5 finished!\n",
            "当前进程的内存使用：0.6085 GB\n",
            "Model: \"sequential_6\"\n",
            "_________________________________________________________________\n",
            " Layer (type)                Output Shape              Param #   \n",
            "=================================================================\n",
            " reshape_6 (Reshape)         (None, 63, 40, 1)         0         \n",
            "                                                                 \n",
            " conv2d_18 (Conv2D)          (None, 63, 40, 24)        624       \n",
            "                                                                 \n",
            " max_pooling2d_18 (MaxPoolin  (None, 32, 20, 24)       0         \n",
            " g2D)                                                            \n",
            "                                                                 \n",
            " conv2d_19 (Conv2D)          (None, 32, 20, 36)        7812      \n",
            "                                                                 \n",
            " max_pooling2d_19 (MaxPoolin  (None, 16, 10, 36)       0         \n",
            " g2D)                                                            \n",
            "                                                                 \n",
            " conv2d_20 (Conv2D)          (None, 16, 10, 48)        15600     \n",
            "                                                                 \n",
            " max_pooling2d_20 (MaxPoolin  (None, 8, 5, 48)         0         \n",
            " g2D)                                                            \n",
            "                                                                 \n",
            " flatten_6 (Flatten)         (None, 1920)              0         \n",
            "                                                                 \n",
            " dropout_6 (Dropout)         (None, 1920)              0         \n",
            "                                                                 \n",
            " dense_6 (Dense)             (None, 40)                76840     \n",
            "                                                                 \n",
            " y_pred (Dense)              (None, 10)                410       \n",
            "                                                                 \n",
            "=================================================================\n",
            "Total params: 101,286\n",
            "Trainable params: 101,286\n",
            "Non-trainable params: 0\n",
            "_________________________________________________________________\n"
          ]
        },
        {
          "output_type": "stream",
          "name": "stderr",
          "text": [
            "\r 70%|███████   | 7/10 [00:17<00:07,  2.48s/it]"
          ]
        },
        {
          "output_type": "stream",
          "name": "stdout",
          "text": [
            "CPU Time:  1.5453549999999971\n",
            "Number of predictions: 759\n",
            "Average running time for a sample: 0.0020360408432147526\n",
            "Fold 6 finished!\n",
            "当前进程的内存使用：0.6089 GB\n",
            "Model: \"sequential_6\"\n",
            "_________________________________________________________________\n",
            " Layer (type)                Output Shape              Param #   \n",
            "=================================================================\n",
            " reshape_6 (Reshape)         (None, 63, 40, 1)         0         \n",
            "                                                                 \n",
            " conv2d_18 (Conv2D)          (None, 63, 40, 24)        624       \n",
            "                                                                 \n",
            " max_pooling2d_18 (MaxPoolin  (None, 32, 20, 24)       0         \n",
            " g2D)                                                            \n",
            "                                                                 \n",
            " conv2d_19 (Conv2D)          (None, 32, 20, 36)        7812      \n",
            "                                                                 \n",
            " max_pooling2d_19 (MaxPoolin  (None, 16, 10, 36)       0         \n",
            " g2D)                                                            \n",
            "                                                                 \n",
            " conv2d_20 (Conv2D)          (None, 16, 10, 48)        15600     \n",
            "                                                                 \n",
            " max_pooling2d_20 (MaxPoolin  (None, 8, 5, 48)         0         \n",
            " g2D)                                                            \n",
            "                                                                 \n",
            " flatten_6 (Flatten)         (None, 1920)              0         \n",
            "                                                                 \n",
            " dropout_6 (Dropout)         (None, 1920)              0         \n",
            "                                                                 \n",
            " dense_6 (Dense)             (None, 40)                76840     \n",
            "                                                                 \n",
            " y_pred (Dense)              (None, 10)                410       \n",
            "                                                                 \n",
            "=================================================================\n",
            "Total params: 101,286\n",
            "Trainable params: 101,286\n",
            "Non-trainable params: 0\n",
            "_________________________________________________________________\n"
          ]
        },
        {
          "output_type": "stream",
          "name": "stderr",
          "text": [
            "\r 80%|████████  | 8/10 [00:19<00:04,  2.45s/it]"
          ]
        },
        {
          "output_type": "stream",
          "name": "stdout",
          "text": [
            "CPU Time:  1.4746489999999994\n",
            "Number of predictions: 713\n",
            "Average running time for a sample: 0.002068231416549789\n",
            "Fold 7 finished!\n",
            "当前进程的内存使用：0.6109 GB\n",
            "Model: \"sequential_6\"\n",
            "_________________________________________________________________\n",
            " Layer (type)                Output Shape              Param #   \n",
            "=================================================================\n",
            " reshape_6 (Reshape)         (None, 63, 40, 1)         0         \n",
            "                                                                 \n",
            " conv2d_18 (Conv2D)          (None, 63, 40, 24)        624       \n",
            "                                                                 \n",
            " max_pooling2d_18 (MaxPoolin  (None, 32, 20, 24)       0         \n",
            " g2D)                                                            \n",
            "                                                                 \n",
            " conv2d_19 (Conv2D)          (None, 32, 20, 36)        7812      \n",
            "                                                                 \n",
            " max_pooling2d_19 (MaxPoolin  (None, 16, 10, 36)       0         \n",
            " g2D)                                                            \n",
            "                                                                 \n",
            " conv2d_20 (Conv2D)          (None, 16, 10, 48)        15600     \n",
            "                                                                 \n",
            " max_pooling2d_20 (MaxPoolin  (None, 8, 5, 48)         0         \n",
            " g2D)                                                            \n",
            "                                                                 \n",
            " flatten_6 (Flatten)         (None, 1920)              0         \n",
            "                                                                 \n",
            " dropout_6 (Dropout)         (None, 1920)              0         \n",
            "                                                                 \n",
            " dense_6 (Dense)             (None, 40)                76840     \n",
            "                                                                 \n",
            " y_pred (Dense)              (None, 10)                410       \n",
            "                                                                 \n",
            "=================================================================\n",
            "Total params: 101,286\n",
            "Trainable params: 101,286\n",
            "Non-trainable params: 0\n",
            "_________________________________________________________________\n"
          ]
        },
        {
          "output_type": "stream",
          "name": "stderr",
          "text": [
            "\r 90%|█████████ | 9/10 [00:22<00:02,  2.39s/it]"
          ]
        },
        {
          "output_type": "stream",
          "name": "stdout",
          "text": [
            "CPU Time:  1.4406399999999984\n",
            "Number of predictions: 735\n",
            "Average running time for a sample: 0.001960054421768705\n",
            "Fold 8 finished!\n",
            "当前进程的内存使用：0.6165 GB\n",
            "Model: \"sequential_6\"\n",
            "_________________________________________________________________\n",
            " Layer (type)                Output Shape              Param #   \n",
            "=================================================================\n",
            " reshape_6 (Reshape)         (None, 63, 40, 1)         0         \n",
            "                                                                 \n",
            " conv2d_18 (Conv2D)          (None, 63, 40, 24)        624       \n",
            "                                                                 \n",
            " max_pooling2d_18 (MaxPoolin  (None, 32, 20, 24)       0         \n",
            " g2D)                                                            \n",
            "                                                                 \n",
            " conv2d_19 (Conv2D)          (None, 32, 20, 36)        7812      \n",
            "                                                                 \n",
            " max_pooling2d_19 (MaxPoolin  (None, 16, 10, 36)       0         \n",
            " g2D)                                                            \n",
            "                                                                 \n",
            " conv2d_20 (Conv2D)          (None, 16, 10, 48)        15600     \n",
            "                                                                 \n",
            " max_pooling2d_20 (MaxPoolin  (None, 8, 5, 48)         0         \n",
            " g2D)                                                            \n",
            "                                                                 \n",
            " flatten_6 (Flatten)         (None, 1920)              0         \n",
            "                                                                 \n",
            " dropout_6 (Dropout)         (None, 1920)              0         \n",
            "                                                                 \n",
            " dense_6 (Dense)             (None, 40)                76840     \n",
            "                                                                 \n",
            " y_pred (Dense)              (None, 10)                410       \n",
            "                                                                 \n",
            "=================================================================\n",
            "Total params: 101,286\n",
            "Trainable params: 101,286\n",
            "Non-trainable params: 0\n",
            "_________________________________________________________________\n"
          ]
        },
        {
          "output_type": "stream",
          "name": "stderr",
          "text": [
            "100%|██████████| 10/10 [00:24<00:00,  2.49s/it]"
          ]
        },
        {
          "output_type": "stream",
          "name": "stdout",
          "text": [
            "CPU Time:  1.547578999999999\n",
            "Number of predictions: 749\n",
            "Average running time for a sample: 0.0020661935914552724\n",
            "Fold 9 finished!\n",
            "当前进程的内存使用：0.6259 GB\n"
          ]
        },
        {
          "output_type": "stream",
          "name": "stderr",
          "text": [
            "\n"
          ]
        }
      ]
    },
    {
      "cell_type": "markdown",
      "source": [
        "Running time for RajoCNN"
      ],
      "metadata": {
        "id": "QBuS6NNmDosa"
      }
    },
    {
      "cell_type": "code",
      "source": [
        "for i in tqdm(range(10)):\n",
        "  #from tensorflow.compat.v1.keras import backend as K\n",
        "  import tensorflow as tf\n",
        "\n",
        "  import os\n",
        "  import psutil\n",
        "\n",
        "  X_test =np.load(\"drive/MyDrive/Thesis_Keras/TenFoldDataset/datasetnpy/PiczakCNN/mel/\"+f\"fold{i + 1}\"+\"/X.npy\")\n",
        "  y_test=np.load(\"drive/MyDrive/Thesis_Keras/TenFoldDataset/datasetnpy/PiczakCNN/mel/\"+f\"fold{i + 1}\"+\"/y.npy\")\n",
        "  \n",
        "  modelPth=\"/content/drive/MyDrive/Thesis_Keras/model/saved/Piczak\"+\"fold4\"+\".h5\"\n",
        "  model=load_model(modelPth)\n",
        "  model.summary()\n",
        "  import time\n",
        "  start = time.clock()\n",
        "\n",
        "  pre_y = model.predict(X_test)\n",
        "  end =  time.clock()\n",
        "  print(\"CPU Time: \", end - start)\n",
        "\n",
        "  numofY=pre_y.shape[0]\n",
        "  print(\"Number of predictions:\",numofY)\n",
        "  print(\"Average running time for a sample:\",(end - start)/numofY)\n",
        "  pre_New=np.argmax(pre_y)\n",
        "  \n",
        "  print(f\"Fold {i} finished!\")\n",
        "  print(u'当前进程的内存使用：%.4f GB' % (psutil.Process(os.getpid()).memory_info().rss / 1024 / 1024 / 1024) )"
      ],
      "metadata": {
        "colab": {
          "base_uri": "https://localhost:8080/"
        },
        "id": "9ShYlmZaDvCj",
        "outputId": "cdf2cb99-e185-4b30-d96b-d7937e719e87"
      },
      "execution_count": null,
      "outputs": [
        {
          "output_type": "stream",
          "name": "stderr",
          "text": [
            "\r  0%|          | 0/10 [00:00<?, ?it/s]"
          ]
        },
        {
          "output_type": "stream",
          "name": "stdout",
          "text": [
            "Model: \"sequential_93\"\n",
            "_________________________________________________________________\n",
            " Layer (type)                Output Shape              Param #   \n",
            "=================================================================\n",
            " conv2d_186 (Conv2D)         (None, 4, 36, 80)         27440     \n",
            "                                                                 \n",
            " max_pooling2d_186 (MaxPooli  (None, 1, 12, 80)        0         \n",
            " ng2D)                                                           \n",
            "                                                                 \n",
            " batch_normalization_93 (Bat  (None, 1, 12, 80)        320       \n",
            " chNormalization)                                                \n",
            "                                                                 \n",
            " conv2d_187 (Conv2D)         (None, 1, 10, 80)         19280     \n",
            "                                                                 \n",
            " max_pooling2d_187 (MaxPooli  (None, 1, 3, 80)         0         \n",
            " ng2D)                                                           \n",
            "                                                                 \n",
            " flatten_93 (Flatten)        (None, 240)               0         \n",
            "                                                                 \n",
            " dense_279 (Dense)           (None, 5000)              1205000   \n",
            "                                                                 \n",
            " dropout_186 (Dropout)       (None, 5000)              0         \n",
            "                                                                 \n",
            " dense_280 (Dense)           (None, 5000)              25005000  \n",
            "                                                                 \n",
            " dropout_187 (Dropout)       (None, 5000)              0         \n",
            "                                                                 \n",
            " dense_281 (Dense)           (None, 10)                50010     \n",
            "                                                                 \n",
            "=================================================================\n",
            "Total params: 26,307,050\n",
            "Trainable params: 26,306,890\n",
            "Non-trainable params: 160\n",
            "_________________________________________________________________\n"
          ]
        },
        {
          "output_type": "stream",
          "name": "stderr",
          "text": [
            "/usr/local/lib/python3.7/dist-packages/ipykernel_launcher.py:15: DeprecationWarning: time.clock has been deprecated in Python 3.3 and will be removed from Python 3.8: use time.perf_counter or time.process_time instead\n",
            "  from ipykernel import kernelapp as app\n",
            "/usr/local/lib/python3.7/dist-packages/ipykernel_launcher.py:18: DeprecationWarning: time.clock has been deprecated in Python 3.3 and will be removed from Python 3.8: use time.perf_counter or time.process_time instead\n",
            " 10%|█         | 1/10 [00:03<00:27,  3.06s/it]"
          ]
        },
        {
          "output_type": "stream",
          "name": "stdout",
          "text": [
            "CPU Time:  2.6851299999999583\n",
            "Number of predictions: 769\n",
            "Average running time for a sample: 0.003491716514954432\n",
            "Fold 0 finished!\n",
            "当前进程的内存使用：4.4485 GB\n",
            "Model: \"sequential_93\"\n",
            "_________________________________________________________________\n",
            " Layer (type)                Output Shape              Param #   \n",
            "=================================================================\n",
            " conv2d_186 (Conv2D)         (None, 4, 36, 80)         27440     \n",
            "                                                                 \n",
            " max_pooling2d_186 (MaxPooli  (None, 1, 12, 80)        0         \n",
            " ng2D)                                                           \n",
            "                                                                 \n",
            " batch_normalization_93 (Bat  (None, 1, 12, 80)        320       \n",
            " chNormalization)                                                \n",
            "                                                                 \n",
            " conv2d_187 (Conv2D)         (None, 1, 10, 80)         19280     \n",
            "                                                                 \n",
            " max_pooling2d_187 (MaxPooli  (None, 1, 3, 80)         0         \n",
            " ng2D)                                                           \n",
            "                                                                 \n",
            " flatten_93 (Flatten)        (None, 240)               0         \n",
            "                                                                 \n",
            " dense_279 (Dense)           (None, 5000)              1205000   \n",
            "                                                                 \n",
            " dropout_186 (Dropout)       (None, 5000)              0         \n",
            "                                                                 \n",
            " dense_280 (Dense)           (None, 5000)              25005000  \n",
            "                                                                 \n",
            " dropout_187 (Dropout)       (None, 5000)              0         \n",
            "                                                                 \n",
            " dense_281 (Dense)           (None, 10)                50010     \n",
            "                                                                 \n",
            "=================================================================\n",
            "Total params: 26,307,050\n",
            "Trainable params: 26,306,890\n",
            "Non-trainable params: 160\n",
            "_________________________________________________________________\n"
          ]
        },
        {
          "output_type": "stream",
          "name": "stderr",
          "text": [
            "\r 20%|██        | 2/10 [00:06<00:24,  3.05s/it]"
          ]
        },
        {
          "output_type": "stream",
          "name": "stdout",
          "text": [
            "CPU Time:  2.7161559999999554\n",
            "Number of predictions: 772\n",
            "Average running time for a sample: 0.003518336787564709\n",
            "Fold 1 finished!\n",
            "当前进程的内存使用：4.7284 GB\n",
            "Model: \"sequential_93\"\n",
            "_________________________________________________________________\n",
            " Layer (type)                Output Shape              Param #   \n",
            "=================================================================\n",
            " conv2d_186 (Conv2D)         (None, 4, 36, 80)         27440     \n",
            "                                                                 \n",
            " max_pooling2d_186 (MaxPooli  (None, 1, 12, 80)        0         \n",
            " ng2D)                                                           \n",
            "                                                                 \n",
            " batch_normalization_93 (Bat  (None, 1, 12, 80)        320       \n",
            " chNormalization)                                                \n",
            "                                                                 \n",
            " conv2d_187 (Conv2D)         (None, 1, 10, 80)         19280     \n",
            "                                                                 \n",
            " max_pooling2d_187 (MaxPooli  (None, 1, 3, 80)         0         \n",
            " ng2D)                                                           \n",
            "                                                                 \n",
            " flatten_93 (Flatten)        (None, 240)               0         \n",
            "                                                                 \n",
            " dense_279 (Dense)           (None, 5000)              1205000   \n",
            "                                                                 \n",
            " dropout_186 (Dropout)       (None, 5000)              0         \n",
            "                                                                 \n",
            " dense_280 (Dense)           (None, 5000)              25005000  \n",
            "                                                                 \n",
            " dropout_187 (Dropout)       (None, 5000)              0         \n",
            "                                                                 \n",
            " dense_281 (Dense)           (None, 10)                50010     \n",
            "                                                                 \n",
            "=================================================================\n",
            "Total params: 26,307,050\n",
            "Trainable params: 26,306,890\n",
            "Non-trainable params: 160\n",
            "_________________________________________________________________\n"
          ]
        },
        {
          "output_type": "stream",
          "name": "stderr",
          "text": [
            "\r 30%|███       | 3/10 [00:09<00:21,  3.07s/it]"
          ]
        },
        {
          "output_type": "stream",
          "name": "stdout",
          "text": [
            "CPU Time:  2.8083239999999705\n",
            "Number of predictions: 820\n",
            "Average running time for a sample: 0.0034247853658536226\n",
            "Fold 2 finished!\n",
            "当前进程的内存使用：5.0085 GB\n",
            "Model: \"sequential_93\"\n",
            "_________________________________________________________________\n",
            " Layer (type)                Output Shape              Param #   \n",
            "=================================================================\n",
            " conv2d_186 (Conv2D)         (None, 4, 36, 80)         27440     \n",
            "                                                                 \n",
            " max_pooling2d_186 (MaxPooli  (None, 1, 12, 80)        0         \n",
            " ng2D)                                                           \n",
            "                                                                 \n",
            " batch_normalization_93 (Bat  (None, 1, 12, 80)        320       \n",
            " chNormalization)                                                \n",
            "                                                                 \n",
            " conv2d_187 (Conv2D)         (None, 1, 10, 80)         19280     \n",
            "                                                                 \n",
            " max_pooling2d_187 (MaxPooli  (None, 1, 3, 80)         0         \n",
            " ng2D)                                                           \n",
            "                                                                 \n",
            " flatten_93 (Flatten)        (None, 240)               0         \n",
            "                                                                 \n",
            " dense_279 (Dense)           (None, 5000)              1205000   \n",
            "                                                                 \n",
            " dropout_186 (Dropout)       (None, 5000)              0         \n",
            "                                                                 \n",
            " dense_280 (Dense)           (None, 5000)              25005000  \n",
            "                                                                 \n",
            " dropout_187 (Dropout)       (None, 5000)              0         \n",
            "                                                                 \n",
            " dense_281 (Dense)           (None, 10)                50010     \n",
            "                                                                 \n",
            "=================================================================\n",
            "Total params: 26,307,050\n",
            "Trainable params: 26,306,890\n",
            "Non-trainable params: 160\n",
            "_________________________________________________________________\n"
          ]
        },
        {
          "output_type": "stream",
          "name": "stderr",
          "text": [
            "\r 40%|████      | 4/10 [00:12<00:18,  3.11s/it]"
          ]
        },
        {
          "output_type": "stream",
          "name": "stdout",
          "text": [
            "CPU Time:  2.9082689999999047\n",
            "Number of predictions: 860\n",
            "Average running time for a sample: 0.003381708139534773\n",
            "Fold 3 finished!\n",
            "当前进程的内存使用：5.2886 GB\n",
            "Model: \"sequential_93\"\n",
            "_________________________________________________________________\n",
            " Layer (type)                Output Shape              Param #   \n",
            "=================================================================\n",
            " conv2d_186 (Conv2D)         (None, 4, 36, 80)         27440     \n",
            "                                                                 \n",
            " max_pooling2d_186 (MaxPooli  (None, 1, 12, 80)        0         \n",
            " ng2D)                                                           \n",
            "                                                                 \n",
            " batch_normalization_93 (Bat  (None, 1, 12, 80)        320       \n",
            " chNormalization)                                                \n",
            "                                                                 \n",
            " conv2d_187 (Conv2D)         (None, 1, 10, 80)         19280     \n",
            "                                                                 \n",
            " max_pooling2d_187 (MaxPooli  (None, 1, 3, 80)         0         \n",
            " ng2D)                                                           \n",
            "                                                                 \n",
            " flatten_93 (Flatten)        (None, 240)               0         \n",
            "                                                                 \n",
            " dense_279 (Dense)           (None, 5000)              1205000   \n",
            "                                                                 \n",
            " dropout_186 (Dropout)       (None, 5000)              0         \n",
            "                                                                 \n",
            " dense_280 (Dense)           (None, 5000)              25005000  \n",
            "                                                                 \n",
            " dropout_187 (Dropout)       (None, 5000)              0         \n",
            "                                                                 \n",
            " dense_281 (Dense)           (None, 10)                50010     \n",
            "                                                                 \n",
            "=================================================================\n",
            "Total params: 26,307,050\n",
            "Trainable params: 26,306,890\n",
            "Non-trainable params: 160\n",
            "_________________________________________________________________\n"
          ]
        },
        {
          "output_type": "stream",
          "name": "stderr",
          "text": [
            "\r 50%|█████     | 5/10 [00:15<00:15,  3.09s/it]"
          ]
        },
        {
          "output_type": "stream",
          "name": "stdout",
          "text": [
            "CPU Time:  2.7849710000000414\n",
            "Number of predictions: 808\n",
            "Average running time for a sample: 0.003446746287128764\n",
            "Fold 4 finished!\n",
            "当前进程的内存使用：5.5688 GB\n",
            "Model: \"sequential_93\"\n",
            "_________________________________________________________________\n",
            " Layer (type)                Output Shape              Param #   \n",
            "=================================================================\n",
            " conv2d_186 (Conv2D)         (None, 4, 36, 80)         27440     \n",
            "                                                                 \n",
            " max_pooling2d_186 (MaxPooli  (None, 1, 12, 80)        0         \n",
            " ng2D)                                                           \n",
            "                                                                 \n",
            " batch_normalization_93 (Bat  (None, 1, 12, 80)        320       \n",
            " chNormalization)                                                \n",
            "                                                                 \n",
            " conv2d_187 (Conv2D)         (None, 1, 10, 80)         19280     \n",
            "                                                                 \n",
            " max_pooling2d_187 (MaxPooli  (None, 1, 3, 80)         0         \n",
            " ng2D)                                                           \n",
            "                                                                 \n",
            " flatten_93 (Flatten)        (None, 240)               0         \n",
            "                                                                 \n",
            " dense_279 (Dense)           (None, 5000)              1205000   \n",
            "                                                                 \n",
            " dropout_186 (Dropout)       (None, 5000)              0         \n",
            "                                                                 \n",
            " dense_280 (Dense)           (None, 5000)              25005000  \n",
            "                                                                 \n",
            " dropout_187 (Dropout)       (None, 5000)              0         \n",
            "                                                                 \n",
            " dense_281 (Dense)           (None, 10)                50010     \n",
            "                                                                 \n",
            "=================================================================\n",
            "Total params: 26,307,050\n",
            "Trainable params: 26,306,890\n",
            "Non-trainable params: 160\n",
            "_________________________________________________________________\n"
          ]
        },
        {
          "output_type": "stream",
          "name": "stderr",
          "text": [
            "\r 60%|██████    | 6/10 [00:18<00:12,  3.05s/it]"
          ]
        },
        {
          "output_type": "stream",
          "name": "stdout",
          "text": [
            "CPU Time:  2.4573279999999613\n",
            "Number of predictions: 719\n",
            "Average running time for a sample: 0.0034177023643949395\n",
            "Fold 5 finished!\n",
            "当前进程的内存使用：5.8487 GB\n",
            "Model: \"sequential_93\"\n",
            "_________________________________________________________________\n",
            " Layer (type)                Output Shape              Param #   \n",
            "=================================================================\n",
            " conv2d_186 (Conv2D)         (None, 4, 36, 80)         27440     \n",
            "                                                                 \n",
            " max_pooling2d_186 (MaxPooli  (None, 1, 12, 80)        0         \n",
            " ng2D)                                                           \n",
            "                                                                 \n",
            " batch_normalization_93 (Bat  (None, 1, 12, 80)        320       \n",
            " chNormalization)                                                \n",
            "                                                                 \n",
            " conv2d_187 (Conv2D)         (None, 1, 10, 80)         19280     \n",
            "                                                                 \n",
            " max_pooling2d_187 (MaxPooli  (None, 1, 3, 80)         0         \n",
            " ng2D)                                                           \n",
            "                                                                 \n",
            " flatten_93 (Flatten)        (None, 240)               0         \n",
            "                                                                 \n",
            " dense_279 (Dense)           (None, 5000)              1205000   \n",
            "                                                                 \n",
            " dropout_186 (Dropout)       (None, 5000)              0         \n",
            "                                                                 \n",
            " dense_280 (Dense)           (None, 5000)              25005000  \n",
            "                                                                 \n",
            " dropout_187 (Dropout)       (None, 5000)              0         \n",
            "                                                                 \n",
            " dense_281 (Dense)           (None, 10)                50010     \n",
            "                                                                 \n",
            "=================================================================\n",
            "Total params: 26,307,050\n",
            "Trainable params: 26,306,890\n",
            "Non-trainable params: 160\n",
            "_________________________________________________________________\n"
          ]
        },
        {
          "output_type": "stream",
          "name": "stderr",
          "text": [
            "\r 70%|███████   | 7/10 [00:21<00:09,  3.12s/it]"
          ]
        },
        {
          "output_type": "stream",
          "name": "stdout",
          "text": [
            "CPU Time:  2.5521830000000136\n",
            "Number of predictions: 740\n",
            "Average running time for a sample: 0.0034488959459459644\n",
            "Fold 6 finished!\n",
            "当前进程的内存使用：6.1157 GB\n",
            "Model: \"sequential_93\"\n",
            "_________________________________________________________________\n",
            " Layer (type)                Output Shape              Param #   \n",
            "=================================================================\n",
            " conv2d_186 (Conv2D)         (None, 4, 36, 80)         27440     \n",
            "                                                                 \n",
            " max_pooling2d_186 (MaxPooli  (None, 1, 12, 80)        0         \n",
            " ng2D)                                                           \n",
            "                                                                 \n",
            " batch_normalization_93 (Bat  (None, 1, 12, 80)        320       \n",
            " chNormalization)                                                \n",
            "                                                                 \n",
            " conv2d_187 (Conv2D)         (None, 1, 10, 80)         19280     \n",
            "                                                                 \n",
            " max_pooling2d_187 (MaxPooli  (None, 1, 3, 80)         0         \n",
            " ng2D)                                                           \n",
            "                                                                 \n",
            " flatten_93 (Flatten)        (None, 240)               0         \n",
            "                                                                 \n",
            " dense_279 (Dense)           (None, 5000)              1205000   \n",
            "                                                                 \n",
            " dropout_186 (Dropout)       (None, 5000)              0         \n",
            "                                                                 \n",
            " dense_280 (Dense)           (None, 5000)              25005000  \n",
            "                                                                 \n",
            " dropout_187 (Dropout)       (None, 5000)              0         \n",
            "                                                                 \n",
            " dense_281 (Dense)           (None, 10)                50010     \n",
            "                                                                 \n",
            "=================================================================\n",
            "Total params: 26,307,050\n",
            "Trainable params: 26,306,890\n",
            "Non-trainable params: 160\n",
            "_________________________________________________________________\n"
          ]
        },
        {
          "output_type": "stream",
          "name": "stderr",
          "text": [
            "\r 80%|████████  | 8/10 [00:24<00:06,  3.17s/it]"
          ]
        },
        {
          "output_type": "stream",
          "name": "stdout",
          "text": [
            "CPU Time:  2.4579610000000685\n",
            "Number of predictions: 706\n",
            "Average running time for a sample: 0.0034815311614731846\n",
            "Fold 7 finished!\n",
            "当前进程的内存使用：6.4090 GB\n",
            "Model: \"sequential_93\"\n",
            "_________________________________________________________________\n",
            " Layer (type)                Output Shape              Param #   \n",
            "=================================================================\n",
            " conv2d_186 (Conv2D)         (None, 4, 36, 80)         27440     \n",
            "                                                                 \n",
            " max_pooling2d_186 (MaxPooli  (None, 1, 12, 80)        0         \n",
            " ng2D)                                                           \n",
            "                                                                 \n",
            " batch_normalization_93 (Bat  (None, 1, 12, 80)        320       \n",
            " chNormalization)                                                \n",
            "                                                                 \n",
            " conv2d_187 (Conv2D)         (None, 1, 10, 80)         19280     \n",
            "                                                                 \n",
            " max_pooling2d_187 (MaxPooli  (None, 1, 3, 80)         0         \n",
            " ng2D)                                                           \n",
            "                                                                 \n",
            " flatten_93 (Flatten)        (None, 240)               0         \n",
            "                                                                 \n",
            " dense_279 (Dense)           (None, 5000)              1205000   \n",
            "                                                                 \n",
            " dropout_186 (Dropout)       (None, 5000)              0         \n",
            "                                                                 \n",
            " dense_280 (Dense)           (None, 5000)              25005000  \n",
            "                                                                 \n",
            " dropout_187 (Dropout)       (None, 5000)              0         \n",
            "                                                                 \n",
            " dense_281 (Dense)           (None, 10)                50010     \n",
            "                                                                 \n",
            "=================================================================\n",
            "Total params: 26,307,050\n",
            "Trainable params: 26,306,890\n",
            "Non-trainable params: 160\n",
            "_________________________________________________________________\n"
          ]
        },
        {
          "output_type": "stream",
          "name": "stderr",
          "text": [
            "\r 90%|█████████ | 9/10 [00:28<00:03,  3.17s/it]"
          ]
        },
        {
          "output_type": "stream",
          "name": "stdout",
          "text": [
            "CPU Time:  2.5225260000000844\n",
            "Number of predictions: 734\n",
            "Average running time for a sample: 0.003436683923705837\n",
            "Fold 8 finished!\n",
            "当前进程的内存使用：6.7858 GB\n",
            "Model: \"sequential_93\"\n",
            "_________________________________________________________________\n",
            " Layer (type)                Output Shape              Param #   \n",
            "=================================================================\n",
            " conv2d_186 (Conv2D)         (None, 4, 36, 80)         27440     \n",
            "                                                                 \n",
            " max_pooling2d_186 (MaxPooli  (None, 1, 12, 80)        0         \n",
            " ng2D)                                                           \n",
            "                                                                 \n",
            " batch_normalization_93 (Bat  (None, 1, 12, 80)        320       \n",
            " chNormalization)                                                \n",
            "                                                                 \n",
            " conv2d_187 (Conv2D)         (None, 1, 10, 80)         19280     \n",
            "                                                                 \n",
            " max_pooling2d_187 (MaxPooli  (None, 1, 3, 80)         0         \n",
            " ng2D)                                                           \n",
            "                                                                 \n",
            " flatten_93 (Flatten)        (None, 240)               0         \n",
            "                                                                 \n",
            " dense_279 (Dense)           (None, 5000)              1205000   \n",
            "                                                                 \n",
            " dropout_186 (Dropout)       (None, 5000)              0         \n",
            "                                                                 \n",
            " dense_280 (Dense)           (None, 5000)              25005000  \n",
            "                                                                 \n",
            " dropout_187 (Dropout)       (None, 5000)              0         \n",
            "                                                                 \n",
            " dense_281 (Dense)           (None, 10)                50010     \n",
            "                                                                 \n",
            "=================================================================\n",
            "Total params: 26,307,050\n",
            "Trainable params: 26,306,890\n",
            "Non-trainable params: 160\n",
            "_________________________________________________________________\n"
          ]
        },
        {
          "output_type": "stream",
          "name": "stderr",
          "text": [
            "100%|██████████| 10/10 [00:31<00:00,  3.11s/it]"
          ]
        },
        {
          "output_type": "stream",
          "name": "stdout",
          "text": [
            "CPU Time:  2.591474000000062\n",
            "Number of predictions: 744\n",
            "Average running time for a sample: 0.003483163978494707\n",
            "Fold 9 finished!\n",
            "当前进程的内存使用：7.0659 GB\n"
          ]
        },
        {
          "output_type": "stream",
          "name": "stderr",
          "text": [
            "\n"
          ]
        }
      ]
    },
    {
      "cell_type": "markdown",
      "source": [
        "Running Time for Piczak"
      ],
      "metadata": {
        "id": "r3UWT9EkEj8G"
      }
    },
    {
      "cell_type": "code",
      "source": [
        "for i in tqdm(range(10)):\n",
        "  #from tensorflow.compat.v1.keras import backend as K\n",
        "  import tensorflow as tf\n",
        "\n",
        "  import os\n",
        "  import psutil\n",
        "\n",
        "  X_test =np.load(\"drive/MyDrive/Thesis_Keras/TenFoldDataset/datasetnpy/PiczakCNN/mel/\"+f\"fold{i + 1}\"+\"/X.npy\")\n",
        "  y_test=np.load(\"drive/MyDrive/Thesis_Keras/TenFoldDataset/datasetnpy/PiczakCNN/mel/\"+f\"fold{i + 1}\"+\"/y.npy\")\n",
        "  \n",
        "  modelPth=\"/content/drive/MyDrive/Thesis_Keras/model/saved/Piczakfold3.h5\"\n",
        "  model=load_model(modelPth)\n",
        "  model.summary()\n",
        "  import time\n",
        "  start = time.clock()\n",
        "\n",
        "  pre_y = model.predict(X_test)\n",
        "  end =  time.clock()\n",
        "  print(\"CPU Time: \", end - start)\n",
        "\n",
        "  numofY=pre_y.shape[0]\n",
        "  print(\"Number of predictions:\",numofY)\n",
        "  print(\"Average running time for a sample:\",(end - start)/numofY)\n",
        "  pre_New=np.argmax(pre_y)\n",
        "  \n",
        "  print(f\"Fold {i} finished!\")\n",
        "  print(u'当前进程的内存使用：%.4f GB' % (psutil.Process(os.getpid()).memory_info().rss / 1024 / 1024 / 1024) )"
      ],
      "metadata": {
        "colab": {
          "base_uri": "https://localhost:8080/"
        },
        "id": "2uktjPb1Eln3",
        "outputId": "9991fe84-2143-4920-b202-fe7544a23f53"
      },
      "execution_count": null,
      "outputs": [
        {
          "output_type": "stream",
          "name": "stderr",
          "text": [
            "\r  0%|          | 0/10 [00:00<?, ?it/s]"
          ]
        },
        {
          "output_type": "stream",
          "name": "stdout",
          "text": [
            "Model: \"sequential_91\"\n",
            "_________________________________________________________________\n",
            " Layer (type)                Output Shape              Param #   \n",
            "=================================================================\n",
            " conv2d_182 (Conv2D)         (None, 4, 36, 80)         27440     \n",
            "                                                                 \n",
            " max_pooling2d_182 (MaxPooli  (None, 1, 12, 80)        0         \n",
            " ng2D)                                                           \n",
            "                                                                 \n",
            " batch_normalization_91 (Bat  (None, 1, 12, 80)        320       \n",
            " chNormalization)                                                \n",
            "                                                                 \n",
            " conv2d_183 (Conv2D)         (None, 1, 10, 80)         19280     \n",
            "                                                                 \n",
            " max_pooling2d_183 (MaxPooli  (None, 1, 3, 80)         0         \n",
            " ng2D)                                                           \n",
            "                                                                 \n",
            " flatten_91 (Flatten)        (None, 240)               0         \n",
            "                                                                 \n",
            " dense_273 (Dense)           (None, 5000)              1205000   \n",
            "                                                                 \n",
            " dropout_182 (Dropout)       (None, 5000)              0         \n",
            "                                                                 \n",
            " dense_274 (Dense)           (None, 5000)              25005000  \n",
            "                                                                 \n",
            " dropout_183 (Dropout)       (None, 5000)              0         \n",
            "                                                                 \n",
            " dense_275 (Dense)           (None, 10)                50010     \n",
            "                                                                 \n",
            "=================================================================\n",
            "Total params: 26,307,050\n",
            "Trainable params: 26,306,890\n",
            "Non-trainable params: 160\n",
            "_________________________________________________________________\n"
          ]
        },
        {
          "output_type": "stream",
          "name": "stderr",
          "text": [
            "/usr/local/lib/python3.7/dist-packages/ipykernel_launcher.py:15: DeprecationWarning: time.clock has been deprecated in Python 3.3 and will be removed from Python 3.8: use time.perf_counter or time.process_time instead\n",
            "  from ipykernel import kernelapp as app\n",
            "/usr/local/lib/python3.7/dist-packages/ipykernel_launcher.py:18: DeprecationWarning: time.clock has been deprecated in Python 3.3 and will be removed from Python 3.8: use time.perf_counter or time.process_time instead\n",
            " 10%|█         | 1/10 [00:07<01:07,  7.53s/it]"
          ]
        },
        {
          "output_type": "stream",
          "name": "stdout",
          "text": [
            "CPU Time:  2.676480999999967\n",
            "Number of predictions: 769\n",
            "Average running time for a sample: 0.0034804694408322066\n",
            "Fold 0 finished!\n",
            "当前进程的内存使用：7.0659 GB\n",
            "Model: \"sequential_91\"\n",
            "_________________________________________________________________\n",
            " Layer (type)                Output Shape              Param #   \n",
            "=================================================================\n",
            " conv2d_182 (Conv2D)         (None, 4, 36, 80)         27440     \n",
            "                                                                 \n",
            " max_pooling2d_182 (MaxPooli  (None, 1, 12, 80)        0         \n",
            " ng2D)                                                           \n",
            "                                                                 \n",
            " batch_normalization_91 (Bat  (None, 1, 12, 80)        320       \n",
            " chNormalization)                                                \n",
            "                                                                 \n",
            " conv2d_183 (Conv2D)         (None, 1, 10, 80)         19280     \n",
            "                                                                 \n",
            " max_pooling2d_183 (MaxPooli  (None, 1, 3, 80)         0         \n",
            " ng2D)                                                           \n",
            "                                                                 \n",
            " flatten_91 (Flatten)        (None, 240)               0         \n",
            "                                                                 \n",
            " dense_273 (Dense)           (None, 5000)              1205000   \n",
            "                                                                 \n",
            " dropout_182 (Dropout)       (None, 5000)              0         \n",
            "                                                                 \n",
            " dense_274 (Dense)           (None, 5000)              25005000  \n",
            "                                                                 \n",
            " dropout_183 (Dropout)       (None, 5000)              0         \n",
            "                                                                 \n",
            " dense_275 (Dense)           (None, 10)                50010     \n",
            "                                                                 \n",
            "=================================================================\n",
            "Total params: 26,307,050\n",
            "Trainable params: 26,306,890\n",
            "Non-trainable params: 160\n",
            "_________________________________________________________________\n"
          ]
        },
        {
          "output_type": "stream",
          "name": "stderr",
          "text": [
            "\r 20%|██        | 2/10 [00:10<00:38,  4.83s/it]"
          ]
        },
        {
          "output_type": "stream",
          "name": "stdout",
          "text": [
            "CPU Time:  2.6978920000000244\n",
            "Number of predictions: 772\n",
            "Average running time for a sample: 0.0034946787564767157\n",
            "Fold 1 finished!\n",
            "当前进程的内存使用：7.0659 GB\n",
            "Model: \"sequential_91\"\n",
            "_________________________________________________________________\n",
            " Layer (type)                Output Shape              Param #   \n",
            "=================================================================\n",
            " conv2d_182 (Conv2D)         (None, 4, 36, 80)         27440     \n",
            "                                                                 \n",
            " max_pooling2d_182 (MaxPooli  (None, 1, 12, 80)        0         \n",
            " ng2D)                                                           \n",
            "                                                                 \n",
            " batch_normalization_91 (Bat  (None, 1, 12, 80)        320       \n",
            " chNormalization)                                                \n",
            "                                                                 \n",
            " conv2d_183 (Conv2D)         (None, 1, 10, 80)         19280     \n",
            "                                                                 \n",
            " max_pooling2d_183 (MaxPooli  (None, 1, 3, 80)         0         \n",
            " ng2D)                                                           \n",
            "                                                                 \n",
            " flatten_91 (Flatten)        (None, 240)               0         \n",
            "                                                                 \n",
            " dense_273 (Dense)           (None, 5000)              1205000   \n",
            "                                                                 \n",
            " dropout_182 (Dropout)       (None, 5000)              0         \n",
            "                                                                 \n",
            " dense_274 (Dense)           (None, 5000)              25005000  \n",
            "                                                                 \n",
            " dropout_183 (Dropout)       (None, 5000)              0         \n",
            "                                                                 \n",
            " dense_275 (Dense)           (None, 10)                50010     \n",
            "                                                                 \n",
            "=================================================================\n",
            "Total params: 26,307,050\n",
            "Trainable params: 26,306,890\n",
            "Non-trainable params: 160\n",
            "_________________________________________________________________\n"
          ]
        },
        {
          "output_type": "stream",
          "name": "stderr",
          "text": [
            "\r 30%|███       | 3/10 [00:13<00:27,  3.94s/it]"
          ]
        },
        {
          "output_type": "stream",
          "name": "stdout",
          "text": [
            "CPU Time:  2.8334220000000414\n",
            "Number of predictions: 820\n",
            "Average running time for a sample: 0.00345539268292688\n",
            "Fold 2 finished!\n",
            "当前进程的内存使用：7.0659 GB\n",
            "Model: \"sequential_91\"\n",
            "_________________________________________________________________\n",
            " Layer (type)                Output Shape              Param #   \n",
            "=================================================================\n",
            " conv2d_182 (Conv2D)         (None, 4, 36, 80)         27440     \n",
            "                                                                 \n",
            " max_pooling2d_182 (MaxPooli  (None, 1, 12, 80)        0         \n",
            " ng2D)                                                           \n",
            "                                                                 \n",
            " batch_normalization_91 (Bat  (None, 1, 12, 80)        320       \n",
            " chNormalization)                                                \n",
            "                                                                 \n",
            " conv2d_183 (Conv2D)         (None, 1, 10, 80)         19280     \n",
            "                                                                 \n",
            " max_pooling2d_183 (MaxPooli  (None, 1, 3, 80)         0         \n",
            " ng2D)                                                           \n",
            "                                                                 \n",
            " flatten_91 (Flatten)        (None, 240)               0         \n",
            "                                                                 \n",
            " dense_273 (Dense)           (None, 5000)              1205000   \n",
            "                                                                 \n",
            " dropout_182 (Dropout)       (None, 5000)              0         \n",
            "                                                                 \n",
            " dense_274 (Dense)           (None, 5000)              25005000  \n",
            "                                                                 \n",
            " dropout_183 (Dropout)       (None, 5000)              0         \n",
            "                                                                 \n",
            " dense_275 (Dense)           (None, 10)                50010     \n",
            "                                                                 \n",
            "=================================================================\n",
            "Total params: 26,307,050\n",
            "Trainable params: 26,306,890\n",
            "Non-trainable params: 160\n",
            "_________________________________________________________________\n"
          ]
        },
        {
          "output_type": "stream",
          "name": "stderr",
          "text": [
            "\r 40%|████      | 4/10 [00:16<00:21,  3.56s/it]"
          ]
        },
        {
          "output_type": "stream",
          "name": "stdout",
          "text": [
            "CPU Time:  2.922519999999963\n",
            "Number of predictions: 860\n",
            "Average running time for a sample: 0.003398279069767399\n",
            "Fold 3 finished!\n",
            "当前进程的内存使用：7.0659 GB\n",
            "Model: \"sequential_91\"\n",
            "_________________________________________________________________\n",
            " Layer (type)                Output Shape              Param #   \n",
            "=================================================================\n",
            " conv2d_182 (Conv2D)         (None, 4, 36, 80)         27440     \n",
            "                                                                 \n",
            " max_pooling2d_182 (MaxPooli  (None, 1, 12, 80)        0         \n",
            " ng2D)                                                           \n",
            "                                                                 \n",
            " batch_normalization_91 (Bat  (None, 1, 12, 80)        320       \n",
            " chNormalization)                                                \n",
            "                                                                 \n",
            " conv2d_183 (Conv2D)         (None, 1, 10, 80)         19280     \n",
            "                                                                 \n",
            " max_pooling2d_183 (MaxPooli  (None, 1, 3, 80)         0         \n",
            " ng2D)                                                           \n",
            "                                                                 \n",
            " flatten_91 (Flatten)        (None, 240)               0         \n",
            "                                                                 \n",
            " dense_273 (Dense)           (None, 5000)              1205000   \n",
            "                                                                 \n",
            " dropout_182 (Dropout)       (None, 5000)              0         \n",
            "                                                                 \n",
            " dense_274 (Dense)           (None, 5000)              25005000  \n",
            "                                                                 \n",
            " dropout_183 (Dropout)       (None, 5000)              0         \n",
            "                                                                 \n",
            " dense_275 (Dense)           (None, 10)                50010     \n",
            "                                                                 \n",
            "=================================================================\n",
            "Total params: 26,307,050\n",
            "Trainable params: 26,306,890\n",
            "Non-trainable params: 160\n",
            "_________________________________________________________________\n"
          ]
        },
        {
          "output_type": "stream",
          "name": "stderr",
          "text": [
            "\r 50%|█████     | 5/10 [00:19<00:16,  3.32s/it]"
          ]
        },
        {
          "output_type": "stream",
          "name": "stdout",
          "text": [
            "CPU Time:  2.801294999999982\n",
            "Number of predictions: 808\n",
            "Average running time for a sample: 0.00346694925742572\n",
            "Fold 4 finished!\n",
            "当前进程的内存使用：7.0659 GB\n",
            "Model: \"sequential_91\"\n",
            "_________________________________________________________________\n",
            " Layer (type)                Output Shape              Param #   \n",
            "=================================================================\n",
            " conv2d_182 (Conv2D)         (None, 4, 36, 80)         27440     \n",
            "                                                                 \n",
            " max_pooling2d_182 (MaxPooli  (None, 1, 12, 80)        0         \n",
            " ng2D)                                                           \n",
            "                                                                 \n",
            " batch_normalization_91 (Bat  (None, 1, 12, 80)        320       \n",
            " chNormalization)                                                \n",
            "                                                                 \n",
            " conv2d_183 (Conv2D)         (None, 1, 10, 80)         19280     \n",
            "                                                                 \n",
            " max_pooling2d_183 (MaxPooli  (None, 1, 3, 80)         0         \n",
            " ng2D)                                                           \n",
            "                                                                 \n",
            " flatten_91 (Flatten)        (None, 240)               0         \n",
            "                                                                 \n",
            " dense_273 (Dense)           (None, 5000)              1205000   \n",
            "                                                                 \n",
            " dropout_182 (Dropout)       (None, 5000)              0         \n",
            "                                                                 \n",
            " dense_274 (Dense)           (None, 5000)              25005000  \n",
            "                                                                 \n",
            " dropout_183 (Dropout)       (None, 5000)              0         \n",
            "                                                                 \n",
            " dense_275 (Dense)           (None, 10)                50010     \n",
            "                                                                 \n",
            "=================================================================\n",
            "Total params: 26,307,050\n",
            "Trainable params: 26,306,890\n",
            "Non-trainable params: 160\n",
            "_________________________________________________________________\n"
          ]
        },
        {
          "output_type": "stream",
          "name": "stderr",
          "text": [
            "\r 60%|██████    | 6/10 [00:21<00:12,  3.12s/it]"
          ]
        },
        {
          "output_type": "stream",
          "name": "stdout",
          "text": [
            "CPU Time:  2.446796000000063\n",
            "Number of predictions: 719\n",
            "Average running time for a sample: 0.003403054242002869\n",
            "Fold 5 finished!\n",
            "当前进程的内存使用：7.0659 GB\n",
            "Model: \"sequential_91\"\n",
            "_________________________________________________________________\n",
            " Layer (type)                Output Shape              Param #   \n",
            "=================================================================\n",
            " conv2d_182 (Conv2D)         (None, 4, 36, 80)         27440     \n",
            "                                                                 \n",
            " max_pooling2d_182 (MaxPooli  (None, 1, 12, 80)        0         \n",
            " ng2D)                                                           \n",
            "                                                                 \n",
            " batch_normalization_91 (Bat  (None, 1, 12, 80)        320       \n",
            " chNormalization)                                                \n",
            "                                                                 \n",
            " conv2d_183 (Conv2D)         (None, 1, 10, 80)         19280     \n",
            "                                                                 \n",
            " max_pooling2d_183 (MaxPooli  (None, 1, 3, 80)         0         \n",
            " ng2D)                                                           \n",
            "                                                                 \n",
            " flatten_91 (Flatten)        (None, 240)               0         \n",
            "                                                                 \n",
            " dense_273 (Dense)           (None, 5000)              1205000   \n",
            "                                                                 \n",
            " dropout_182 (Dropout)       (None, 5000)              0         \n",
            "                                                                 \n",
            " dense_274 (Dense)           (None, 5000)              25005000  \n",
            "                                                                 \n",
            " dropout_183 (Dropout)       (None, 5000)              0         \n",
            "                                                                 \n",
            " dense_275 (Dense)           (None, 10)                50010     \n",
            "                                                                 \n",
            "=================================================================\n",
            "Total params: 26,307,050\n",
            "Trainable params: 26,306,890\n",
            "Non-trainable params: 160\n",
            "_________________________________________________________________\n"
          ]
        },
        {
          "output_type": "stream",
          "name": "stderr",
          "text": [
            "\r 70%|███████   | 7/10 [00:24<00:09,  3.01s/it]"
          ]
        },
        {
          "output_type": "stream",
          "name": "stdout",
          "text": [
            "CPU Time:  2.5727170000000115\n",
            "Number of predictions: 740\n",
            "Average running time for a sample: 0.00347664459459461\n",
            "Fold 6 finished!\n",
            "当前进程的内存使用：7.0659 GB\n",
            "Model: \"sequential_91\"\n",
            "_________________________________________________________________\n",
            " Layer (type)                Output Shape              Param #   \n",
            "=================================================================\n",
            " conv2d_182 (Conv2D)         (None, 4, 36, 80)         27440     \n",
            "                                                                 \n",
            " max_pooling2d_182 (MaxPooli  (None, 1, 12, 80)        0         \n",
            " ng2D)                                                           \n",
            "                                                                 \n",
            " batch_normalization_91 (Bat  (None, 1, 12, 80)        320       \n",
            " chNormalization)                                                \n",
            "                                                                 \n",
            " conv2d_183 (Conv2D)         (None, 1, 10, 80)         19280     \n",
            "                                                                 \n",
            " max_pooling2d_183 (MaxPooli  (None, 1, 3, 80)         0         \n",
            " ng2D)                                                           \n",
            "                                                                 \n",
            " flatten_91 (Flatten)        (None, 240)               0         \n",
            "                                                                 \n",
            " dense_273 (Dense)           (None, 5000)              1205000   \n",
            "                                                                 \n",
            " dropout_182 (Dropout)       (None, 5000)              0         \n",
            "                                                                 \n",
            " dense_274 (Dense)           (None, 5000)              25005000  \n",
            "                                                                 \n",
            " dropout_183 (Dropout)       (None, 5000)              0         \n",
            "                                                                 \n",
            " dense_275 (Dense)           (None, 10)                50010     \n",
            "                                                                 \n",
            "=================================================================\n",
            "Total params: 26,307,050\n",
            "Trainable params: 26,306,890\n",
            "Non-trainable params: 160\n",
            "_________________________________________________________________\n"
          ]
        },
        {
          "output_type": "stream",
          "name": "stderr",
          "text": [
            "\r 80%|████████  | 8/10 [00:27<00:05,  2.93s/it]"
          ]
        },
        {
          "output_type": "stream",
          "name": "stdout",
          "text": [
            "CPU Time:  2.5078869999999824\n",
            "Number of predictions: 706\n",
            "Average running time for a sample: 0.0035522478753540828\n",
            "Fold 7 finished!\n",
            "当前进程的内存使用：7.0659 GB\n",
            "Model: \"sequential_91\"\n",
            "_________________________________________________________________\n",
            " Layer (type)                Output Shape              Param #   \n",
            "=================================================================\n",
            " conv2d_182 (Conv2D)         (None, 4, 36, 80)         27440     \n",
            "                                                                 \n",
            " max_pooling2d_182 (MaxPooli  (None, 1, 12, 80)        0         \n",
            " ng2D)                                                           \n",
            "                                                                 \n",
            " batch_normalization_91 (Bat  (None, 1, 12, 80)        320       \n",
            " chNormalization)                                                \n",
            "                                                                 \n",
            " conv2d_183 (Conv2D)         (None, 1, 10, 80)         19280     \n",
            "                                                                 \n",
            " max_pooling2d_183 (MaxPooli  (None, 1, 3, 80)         0         \n",
            " ng2D)                                                           \n",
            "                                                                 \n",
            " flatten_91 (Flatten)        (None, 240)               0         \n",
            "                                                                 \n",
            " dense_273 (Dense)           (None, 5000)              1205000   \n",
            "                                                                 \n",
            " dropout_182 (Dropout)       (None, 5000)              0         \n",
            "                                                                 \n",
            " dense_274 (Dense)           (None, 5000)              25005000  \n",
            "                                                                 \n",
            " dropout_183 (Dropout)       (None, 5000)              0         \n",
            "                                                                 \n",
            " dense_275 (Dense)           (None, 10)                50010     \n",
            "                                                                 \n",
            "=================================================================\n",
            "Total params: 26,307,050\n",
            "Trainable params: 26,306,890\n",
            "Non-trainable params: 160\n",
            "_________________________________________________________________\n"
          ]
        },
        {
          "output_type": "stream",
          "name": "stderr",
          "text": [
            "\r 90%|█████████ | 9/10 [00:30<00:02,  2.89s/it]"
          ]
        },
        {
          "output_type": "stream",
          "name": "stdout",
          "text": [
            "CPU Time:  2.5301939999999377\n",
            "Number of predictions: 734\n",
            "Average running time for a sample: 0.003447130790190651\n",
            "Fold 8 finished!\n",
            "当前进程的内存使用：7.0659 GB\n",
            "Model: \"sequential_91\"\n",
            "_________________________________________________________________\n",
            " Layer (type)                Output Shape              Param #   \n",
            "=================================================================\n",
            " conv2d_182 (Conv2D)         (None, 4, 36, 80)         27440     \n",
            "                                                                 \n",
            " max_pooling2d_182 (MaxPooli  (None, 1, 12, 80)        0         \n",
            " ng2D)                                                           \n",
            "                                                                 \n",
            " batch_normalization_91 (Bat  (None, 1, 12, 80)        320       \n",
            " chNormalization)                                                \n",
            "                                                                 \n",
            " conv2d_183 (Conv2D)         (None, 1, 10, 80)         19280     \n",
            "                                                                 \n",
            " max_pooling2d_183 (MaxPooli  (None, 1, 3, 80)         0         \n",
            " ng2D)                                                           \n",
            "                                                                 \n",
            " flatten_91 (Flatten)        (None, 240)               0         \n",
            "                                                                 \n",
            " dense_273 (Dense)           (None, 5000)              1205000   \n",
            "                                                                 \n",
            " dropout_182 (Dropout)       (None, 5000)              0         \n",
            "                                                                 \n",
            " dense_274 (Dense)           (None, 5000)              25005000  \n",
            "                                                                 \n",
            " dropout_183 (Dropout)       (None, 5000)              0         \n",
            "                                                                 \n",
            " dense_275 (Dense)           (None, 10)                50010     \n",
            "                                                                 \n",
            "=================================================================\n",
            "Total params: 26,307,050\n",
            "Trainable params: 26,306,890\n",
            "Non-trainable params: 160\n",
            "_________________________________________________________________\n"
          ]
        },
        {
          "output_type": "stream",
          "name": "stderr",
          "text": [
            "100%|██████████| 10/10 [00:33<00:00,  3.31s/it]"
          ]
        },
        {
          "output_type": "stream",
          "name": "stdout",
          "text": [
            "CPU Time:  2.591327999999976\n",
            "Number of predictions: 744\n",
            "Average running time for a sample: 0.0034829677419354515\n",
            "Fold 9 finished!\n",
            "当前进程的内存使用：7.0659 GB\n"
          ]
        },
        {
          "output_type": "stream",
          "name": "stderr",
          "text": [
            "\n"
          ]
        }
      ]
    },
    {
      "cell_type": "markdown",
      "source": [
        "Running Time for Lhoest"
      ],
      "metadata": {
        "id": "kXhQqDCxGlZ6"
      }
    },
    {
      "cell_type": "code",
      "source": [
        "for i in tqdm(range(10)):\n",
        "  #from tensorflow.compat.v1.keras import backend as K\n",
        "  import tensorflow as tf\n",
        "\n",
        "  import os\n",
        "  import psutil\n",
        "\n",
        "  X_test =np.load(\"drive/MyDrive/Thesis_Keras/TenFoldDataset/datasetnpy/MelConv1/mel/\"+f\"fold{i + 1}\"+\"/X.npy\")\n",
        "  y_test=np.load(\"drive/MyDrive/Thesis_Keras/TenFoldDataset/datasetnpy/MelConv1/mel/\"+f\"fold{i + 1}\"+\"/y.npy\")\n",
        "  \n",
        "  modelPth=\"/content/drive/MyDrive/Thesis_Keras/model/saved/Lhoestfold5.h5\"\n",
        "  model=load_model(modelPth)\n",
        "  model.summary()\n",
        "  import time\n",
        "  start = time.clock()\n",
        "\n",
        "  pre_y = model.predict(X_test)\n",
        "  end =  time.clock()\n",
        "  print(\"CPU Time: \", end - start)\n",
        "\n",
        "  numofY=pre_y.shape[0]\n",
        "  print(\"Number of predictions:\",numofY)\n",
        "  print(\"Average running time for a sample:\",(end - start)/numofY)\n",
        "  pre_New=np.argmax(pre_y)\n",
        "  \n",
        "  print(f\"Fold {i} finished!\")\n",
        "  print(u'当前进程的内存使用：%.4f GB' % (psutil.Process(os.getpid()).memory_info().rss / 1024 / 1024 / 1024) )"
      ],
      "metadata": {
        "colab": {
          "base_uri": "https://localhost:8080/"
        },
        "id": "8lTJRav4GntY",
        "outputId": "6baeddf6-9273-41b3-9a72-2b2bc5d05d24"
      },
      "execution_count": null,
      "outputs": [
        {
          "output_type": "stream",
          "name": "stderr",
          "text": [
            "\r  0%|          | 0/10 [00:00<?, ?it/s]"
          ]
        },
        {
          "output_type": "stream",
          "name": "stdout",
          "text": [
            "Model: \"sequential_9\"\n",
            "_________________________________________________________________\n",
            " Layer (type)                Output Shape              Param #   \n",
            "=================================================================\n",
            " reshape_8 (Reshape)         (None, 128, 40)           0         \n",
            "                                                                 \n",
            " conv1d_16 (Conv1D)          (None, 124, 12)           2412      \n",
            "                                                                 \n",
            " max_pooling1d_16 (MaxPoolin  (None, 62, 12)           0         \n",
            " g1D)                                                            \n",
            "                                                                 \n",
            " conv1d_17 (Conv1D)          (None, 58, 28)            1708      \n",
            "                                                                 \n",
            " max_pooling1d_17 (MaxPoolin  (None, 29, 28)           0         \n",
            " g1D)                                                            \n",
            "                                                                 \n",
            " dense_8 (Dense)             (None, 29, 30)            870       \n",
            "                                                                 \n",
            " dropout_8 (Dropout)         (None, 29, 30)            0         \n",
            "                                                                 \n",
            " flatten_8 (Flatten)         (None, 870)               0         \n",
            "                                                                 \n",
            " y_pred (Dense)              (None, 10)                8710      \n",
            "                                                                 \n",
            "=================================================================\n",
            "Total params: 13,700\n",
            "Trainable params: 13,700\n",
            "Non-trainable params: 0\n",
            "_________________________________________________________________\n"
          ]
        },
        {
          "output_type": "stream",
          "name": "stderr",
          "text": [
            "/usr/local/lib/python3.7/dist-packages/ipykernel_launcher.py:15: DeprecationWarning: time.clock has been deprecated in Python 3.3 and will be removed from Python 3.8: use time.perf_counter or time.process_time instead\n",
            "  from ipykernel import kernelapp as app\n",
            "/usr/local/lib/python3.7/dist-packages/ipykernel_launcher.py:18: DeprecationWarning: time.clock has been deprecated in Python 3.3 and will be removed from Python 3.8: use time.perf_counter or time.process_time instead\n",
            " 10%|█         | 1/10 [00:03<00:29,  3.23s/it]"
          ]
        },
        {
          "output_type": "stream",
          "name": "stdout",
          "text": [
            "CPU Time:  0.33952499999998054\n",
            "Number of predictions: 755\n",
            "Average running time for a sample: 0.0004497019867549411\n",
            "Fold 0 finished!\n",
            "当前进程的内存使用：7.0670 GB\n",
            "Model: \"sequential_9\"\n",
            "_________________________________________________________________\n",
            " Layer (type)                Output Shape              Param #   \n",
            "=================================================================\n",
            " reshape_8 (Reshape)         (None, 128, 40)           0         \n",
            "                                                                 \n",
            " conv1d_16 (Conv1D)          (None, 124, 12)           2412      \n",
            "                                                                 \n",
            " max_pooling1d_16 (MaxPoolin  (None, 62, 12)           0         \n",
            " g1D)                                                            \n",
            "                                                                 \n",
            " conv1d_17 (Conv1D)          (None, 58, 28)            1708      \n",
            "                                                                 \n",
            " max_pooling1d_17 (MaxPoolin  (None, 29, 28)           0         \n",
            " g1D)                                                            \n",
            "                                                                 \n",
            " dense_8 (Dense)             (None, 29, 30)            870       \n",
            "                                                                 \n",
            " dropout_8 (Dropout)         (None, 29, 30)            0         \n",
            "                                                                 \n",
            " flatten_8 (Flatten)         (None, 870)               0         \n",
            "                                                                 \n",
            " y_pred (Dense)              (None, 10)                8710      \n",
            "                                                                 \n",
            "=================================================================\n",
            "Total params: 13,700\n",
            "Trainable params: 13,700\n",
            "Non-trainable params: 0\n",
            "_________________________________________________________________\n"
          ]
        },
        {
          "output_type": "stream",
          "name": "stderr",
          "text": [
            "\r 20%|██        | 2/10 [00:04<00:18,  2.33s/it]"
          ]
        },
        {
          "output_type": "stream",
          "name": "stdout",
          "text": [
            "CPU Time:  0.30265000000008513\n",
            "Number of predictions: 745\n",
            "Average running time for a sample: 0.0004062416107383693\n",
            "Fold 1 finished!\n",
            "当前进程的内存使用：7.0670 GB\n",
            "Model: \"sequential_9\"\n",
            "_________________________________________________________________\n",
            " Layer (type)                Output Shape              Param #   \n",
            "=================================================================\n",
            " reshape_8 (Reshape)         (None, 128, 40)           0         \n",
            "                                                                 \n",
            " conv1d_16 (Conv1D)          (None, 124, 12)           2412      \n",
            "                                                                 \n",
            " max_pooling1d_16 (MaxPoolin  (None, 62, 12)           0         \n",
            " g1D)                                                            \n",
            "                                                                 \n",
            " conv1d_17 (Conv1D)          (None, 58, 28)            1708      \n",
            "                                                                 \n",
            " max_pooling1d_17 (MaxPoolin  (None, 29, 28)           0         \n",
            " g1D)                                                            \n",
            "                                                                 \n",
            " dense_8 (Dense)             (None, 29, 30)            870       \n",
            "                                                                 \n",
            " dropout_8 (Dropout)         (None, 29, 30)            0         \n",
            "                                                                 \n",
            " flatten_8 (Flatten)         (None, 870)               0         \n",
            "                                                                 \n",
            " y_pred (Dense)              (None, 10)                8710      \n",
            "                                                                 \n",
            "=================================================================\n",
            "Total params: 13,700\n",
            "Trainable params: 13,700\n",
            "Non-trainable params: 0\n",
            "_________________________________________________________________\n"
          ]
        },
        {
          "output_type": "stream",
          "name": "stderr",
          "text": [
            "\r 30%|███       | 3/10 [00:06<00:14,  2.01s/it]"
          ]
        },
        {
          "output_type": "stream",
          "name": "stdout",
          "text": [
            "CPU Time:  0.3164970000000267\n",
            "Number of predictions: 815\n",
            "Average running time for a sample: 0.0003883398773006462\n",
            "Fold 2 finished!\n",
            "当前进程的内存使用：7.0670 GB\n",
            "Model: \"sequential_9\"\n",
            "_________________________________________________________________\n",
            " Layer (type)                Output Shape              Param #   \n",
            "=================================================================\n",
            " reshape_8 (Reshape)         (None, 128, 40)           0         \n",
            "                                                                 \n",
            " conv1d_16 (Conv1D)          (None, 124, 12)           2412      \n",
            "                                                                 \n",
            " max_pooling1d_16 (MaxPoolin  (None, 62, 12)           0         \n",
            " g1D)                                                            \n",
            "                                                                 \n",
            " conv1d_17 (Conv1D)          (None, 58, 28)            1708      \n",
            "                                                                 \n",
            " max_pooling1d_17 (MaxPoolin  (None, 29, 28)           0         \n",
            " g1D)                                                            \n",
            "                                                                 \n",
            " dense_8 (Dense)             (None, 29, 30)            870       \n",
            "                                                                 \n",
            " dropout_8 (Dropout)         (None, 29, 30)            0         \n",
            "                                                                 \n",
            " flatten_8 (Flatten)         (None, 870)               0         \n",
            "                                                                 \n",
            " y_pred (Dense)              (None, 10)                8710      \n",
            "                                                                 \n",
            "=================================================================\n",
            "Total params: 13,700\n",
            "Trainable params: 13,700\n",
            "Non-trainable params: 0\n",
            "_________________________________________________________________\n"
          ]
        },
        {
          "output_type": "stream",
          "name": "stderr",
          "text": [
            "\r 40%|████      | 4/10 [00:08<00:11,  1.88s/it]"
          ]
        },
        {
          "output_type": "stream",
          "name": "stdout",
          "text": [
            "CPU Time:  0.3201719999999568\n",
            "Number of predictions: 827\n",
            "Average running time for a sample: 0.00038714873035061286\n",
            "Fold 3 finished!\n",
            "当前进程的内存使用：7.0670 GB\n",
            "Model: \"sequential_9\"\n",
            "_________________________________________________________________\n",
            " Layer (type)                Output Shape              Param #   \n",
            "=================================================================\n",
            " reshape_8 (Reshape)         (None, 128, 40)           0         \n",
            "                                                                 \n",
            " conv1d_16 (Conv1D)          (None, 124, 12)           2412      \n",
            "                                                                 \n",
            " max_pooling1d_16 (MaxPoolin  (None, 62, 12)           0         \n",
            " g1D)                                                            \n",
            "                                                                 \n",
            " conv1d_17 (Conv1D)          (None, 58, 28)            1708      \n",
            "                                                                 \n",
            " max_pooling1d_17 (MaxPoolin  (None, 29, 28)           0         \n",
            " g1D)                                                            \n",
            "                                                                 \n",
            " dense_8 (Dense)             (None, 29, 30)            870       \n",
            "                                                                 \n",
            " dropout_8 (Dropout)         (None, 29, 30)            0         \n",
            "                                                                 \n",
            " flatten_8 (Flatten)         (None, 870)               0         \n",
            "                                                                 \n",
            " y_pred (Dense)              (None, 10)                8710      \n",
            "                                                                 \n",
            "=================================================================\n",
            "Total params: 13,700\n",
            "Trainable params: 13,700\n",
            "Non-trainable params: 0\n",
            "_________________________________________________________________\n"
          ]
        },
        {
          "output_type": "stream",
          "name": "stderr",
          "text": [
            "\r 50%|█████     | 5/10 [00:09<00:09,  1.80s/it]"
          ]
        },
        {
          "output_type": "stream",
          "name": "stdout",
          "text": [
            "CPU Time:  0.319945999999959\n",
            "Number of predictions: 788\n",
            "Average running time for a sample: 0.0004060228426395419\n",
            "Fold 4 finished!\n",
            "当前进程的内存使用：7.0664 GB\n",
            "Model: \"sequential_9\"\n",
            "_________________________________________________________________\n",
            " Layer (type)                Output Shape              Param #   \n",
            "=================================================================\n",
            " reshape_8 (Reshape)         (None, 128, 40)           0         \n",
            "                                                                 \n",
            " conv1d_16 (Conv1D)          (None, 124, 12)           2412      \n",
            "                                                                 \n",
            " max_pooling1d_16 (MaxPoolin  (None, 62, 12)           0         \n",
            " g1D)                                                            \n",
            "                                                                 \n",
            " conv1d_17 (Conv1D)          (None, 58, 28)            1708      \n",
            "                                                                 \n",
            " max_pooling1d_17 (MaxPoolin  (None, 29, 28)           0         \n",
            " g1D)                                                            \n",
            "                                                                 \n",
            " dense_8 (Dense)             (None, 29, 30)            870       \n",
            "                                                                 \n",
            " dropout_8 (Dropout)         (None, 29, 30)            0         \n",
            "                                                                 \n",
            " flatten_8 (Flatten)         (None, 870)               0         \n",
            "                                                                 \n",
            " y_pred (Dense)              (None, 10)                8710      \n",
            "                                                                 \n",
            "=================================================================\n",
            "Total params: 13,700\n",
            "Trainable params: 13,700\n",
            "Non-trainable params: 0\n",
            "_________________________________________________________________\n"
          ]
        },
        {
          "output_type": "stream",
          "name": "stderr",
          "text": [
            "\r 60%|██████    | 6/10 [00:11<00:07,  1.77s/it]"
          ]
        },
        {
          "output_type": "stream",
          "name": "stdout",
          "text": [
            "CPU Time:  0.3182199999999966\n",
            "Number of predictions: 706\n",
            "Average running time for a sample: 0.00045073654390934365\n",
            "Fold 5 finished!\n",
            "当前进程的内存使用：7.0664 GB\n",
            "Model: \"sequential_9\"\n",
            "_________________________________________________________________\n",
            " Layer (type)                Output Shape              Param #   \n",
            "=================================================================\n",
            " reshape_8 (Reshape)         (None, 128, 40)           0         \n",
            "                                                                 \n",
            " conv1d_16 (Conv1D)          (None, 124, 12)           2412      \n",
            "                                                                 \n",
            " max_pooling1d_16 (MaxPoolin  (None, 62, 12)           0         \n",
            " g1D)                                                            \n",
            "                                                                 \n",
            " conv1d_17 (Conv1D)          (None, 58, 28)            1708      \n",
            "                                                                 \n",
            " max_pooling1d_17 (MaxPoolin  (None, 29, 28)           0         \n",
            " g1D)                                                            \n",
            "                                                                 \n",
            " dense_8 (Dense)             (None, 29, 30)            870       \n",
            "                                                                 \n",
            " dropout_8 (Dropout)         (None, 29, 30)            0         \n",
            "                                                                 \n",
            " flatten_8 (Flatten)         (None, 870)               0         \n",
            "                                                                 \n",
            " y_pred (Dense)              (None, 10)                8710      \n",
            "                                                                 \n",
            "=================================================================\n",
            "Total params: 13,700\n",
            "Trainable params: 13,700\n",
            "Non-trainable params: 0\n",
            "_________________________________________________________________\n"
          ]
        },
        {
          "output_type": "stream",
          "name": "stderr",
          "text": [
            "\r 70%|███████   | 7/10 [00:13<00:05,  1.76s/it]"
          ]
        },
        {
          "output_type": "stream",
          "name": "stdout",
          "text": [
            "CPU Time:  0.3181849999999713\n",
            "Number of predictions: 733\n",
            "Average running time for a sample: 0.0004340859481582146\n",
            "Fold 6 finished!\n",
            "当前进程的内存使用：7.0664 GB\n",
            "Model: \"sequential_9\"\n",
            "_________________________________________________________________\n",
            " Layer (type)                Output Shape              Param #   \n",
            "=================================================================\n",
            " reshape_8 (Reshape)         (None, 128, 40)           0         \n",
            "                                                                 \n",
            " conv1d_16 (Conv1D)          (None, 124, 12)           2412      \n",
            "                                                                 \n",
            " max_pooling1d_16 (MaxPoolin  (None, 62, 12)           0         \n",
            " g1D)                                                            \n",
            "                                                                 \n",
            " conv1d_17 (Conv1D)          (None, 58, 28)            1708      \n",
            "                                                                 \n",
            " max_pooling1d_17 (MaxPoolin  (None, 29, 28)           0         \n",
            " g1D)                                                            \n",
            "                                                                 \n",
            " dense_8 (Dense)             (None, 29, 30)            870       \n",
            "                                                                 \n",
            " dropout_8 (Dropout)         (None, 29, 30)            0         \n",
            "                                                                 \n",
            " flatten_8 (Flatten)         (None, 870)               0         \n",
            "                                                                 \n",
            " y_pred (Dense)              (None, 10)                8710      \n",
            "                                                                 \n",
            "=================================================================\n",
            "Total params: 13,700\n",
            "Trainable params: 13,700\n",
            "Non-trainable params: 0\n",
            "_________________________________________________________________\n"
          ]
        },
        {
          "output_type": "stream",
          "name": "stderr",
          "text": [
            "\r 80%|████████  | 8/10 [00:14<00:03,  1.72s/it]"
          ]
        },
        {
          "output_type": "stream",
          "name": "stdout",
          "text": [
            "CPU Time:  0.3031859999999824\n",
            "Number of predictions: 684\n",
            "Average running time for a sample: 0.0004432543859648866\n",
            "Fold 7 finished!\n",
            "当前进程的内存使用：7.0665 GB\n",
            "Model: \"sequential_9\"\n",
            "_________________________________________________________________\n",
            " Layer (type)                Output Shape              Param #   \n",
            "=================================================================\n",
            " reshape_8 (Reshape)         (None, 128, 40)           0         \n",
            "                                                                 \n",
            " conv1d_16 (Conv1D)          (None, 124, 12)           2412      \n",
            "                                                                 \n",
            " max_pooling1d_16 (MaxPoolin  (None, 62, 12)           0         \n",
            " g1D)                                                            \n",
            "                                                                 \n",
            " conv1d_17 (Conv1D)          (None, 58, 28)            1708      \n",
            "                                                                 \n",
            " max_pooling1d_17 (MaxPoolin  (None, 29, 28)           0         \n",
            " g1D)                                                            \n",
            "                                                                 \n",
            " dense_8 (Dense)             (None, 29, 30)            870       \n",
            "                                                                 \n",
            " dropout_8 (Dropout)         (None, 29, 30)            0         \n",
            "                                                                 \n",
            " flatten_8 (Flatten)         (None, 870)               0         \n",
            "                                                                 \n",
            " y_pred (Dense)              (None, 10)                8710      \n",
            "                                                                 \n",
            "=================================================================\n",
            "Total params: 13,700\n",
            "Trainable params: 13,700\n",
            "Non-trainable params: 0\n",
            "_________________________________________________________________\n"
          ]
        },
        {
          "output_type": "stream",
          "name": "stderr",
          "text": [
            "\r 90%|█████████ | 9/10 [00:16<00:01,  1.72s/it]"
          ]
        },
        {
          "output_type": "stream",
          "name": "stdout",
          "text": [
            "CPU Time:  0.30638199999998506\n",
            "Number of predictions: 708\n",
            "Average running time for a sample: 0.0004327429378530862\n",
            "Fold 8 finished!\n",
            "当前进程的内存使用：7.0669 GB\n",
            "Model: \"sequential_9\"\n",
            "_________________________________________________________________\n",
            " Layer (type)                Output Shape              Param #   \n",
            "=================================================================\n",
            " reshape_8 (Reshape)         (None, 128, 40)           0         \n",
            "                                                                 \n",
            " conv1d_16 (Conv1D)          (None, 124, 12)           2412      \n",
            "                                                                 \n",
            " max_pooling1d_16 (MaxPoolin  (None, 62, 12)           0         \n",
            " g1D)                                                            \n",
            "                                                                 \n",
            " conv1d_17 (Conv1D)          (None, 58, 28)            1708      \n",
            "                                                                 \n",
            " max_pooling1d_17 (MaxPoolin  (None, 29, 28)           0         \n",
            " g1D)                                                            \n",
            "                                                                 \n",
            " dense_8 (Dense)             (None, 29, 30)            870       \n",
            "                                                                 \n",
            " dropout_8 (Dropout)         (None, 29, 30)            0         \n",
            "                                                                 \n",
            " flatten_8 (Flatten)         (None, 870)               0         \n",
            "                                                                 \n",
            " y_pred (Dense)              (None, 10)                8710      \n",
            "                                                                 \n",
            "=================================================================\n",
            "Total params: 13,700\n",
            "Trainable params: 13,700\n",
            "Non-trainable params: 0\n",
            "_________________________________________________________________\n"
          ]
        },
        {
          "output_type": "stream",
          "name": "stderr",
          "text": [
            "100%|██████████| 10/10 [00:18<00:00,  1.83s/it]"
          ]
        },
        {
          "output_type": "stream",
          "name": "stdout",
          "text": [
            "CPU Time:  0.3129789999999275\n",
            "Number of predictions: 717\n",
            "Average running time for a sample: 0.00043651185495108437\n",
            "Fold 9 finished!\n",
            "当前进程的内存使用：7.0635 GB\n"
          ]
        },
        {
          "output_type": "stream",
          "name": "stderr",
          "text": [
            "\n"
          ]
        }
      ]
    },
    {
      "cell_type": "markdown",
      "source": [
        "Running Time for Trivedi"
      ],
      "metadata": {
        "id": "anL6b0txHUOU"
      }
    },
    {
      "cell_type": "code",
      "source": [
        "for i in tqdm(range(10)):\n",
        "  #from tensorflow.compat.v1.keras import backend as K\n",
        "  import tensorflow as tf\n",
        "\n",
        "  import os\n",
        "  import psutil\n",
        "\n",
        "  X_test =np.load(\"drive/MyDrive/Thesis_Keras/TenFoldDataset/datasetnpy/MelConv1/mel/\"+f\"fold{i + 1}\"+\"/X.npy\")\n",
        "  y_test=np.load(\"drive/MyDrive/Thesis_Keras/TenFoldDataset/datasetnpy/MelConv1/mel/\"+f\"fold{i + 1}\"+\"/y.npy\")\n",
        "  \n",
        "  modelPth=\"/content/drive/MyDrive/Thesis_Keras/model/saved/Trivedifold9.h5\"\n",
        "  model=load_model(modelPth)\n",
        "  model.summary()\n",
        "  import time\n",
        "  start = time.clock()\n",
        "\n",
        "  pre_y = model.predict(X_test)\n",
        "  end =  time.clock()\n",
        "  print(\"CPU Time: \", end - start)\n",
        "\n",
        "  numofY=pre_y.shape[0]\n",
        "  print(\"Number of predictions:\",numofY)\n",
        "  print(\"Average running time for a sample:\",(end - start)/numofY)\n",
        "  pre_New=np.argmax(pre_y)\n",
        "  \n",
        "  print(f\"Fold {i} finished!\")\n",
        "  print(u'当前进程的内存使用：%.4f GB' % (psutil.Process(os.getpid()).memory_info().rss / 1024 / 1024 / 1024) )"
      ],
      "metadata": {
        "colab": {
          "base_uri": "https://localhost:8080/"
        },
        "id": "QhkGdErYHUV2",
        "outputId": "18ff8dd9-d040-4323-cef6-da3bbb71f983"
      },
      "execution_count": null,
      "outputs": [
        {
          "output_type": "stream",
          "name": "stderr",
          "text": [
            "\r  0%|          | 0/10 [00:00<?, ?it/s]"
          ]
        },
        {
          "output_type": "stream",
          "name": "stdout",
          "text": [
            "Model: \"sequential_39\"\n",
            "_________________________________________________________________\n",
            " Layer (type)                Output Shape              Param #   \n",
            "=================================================================\n",
            " reshape_38 (Reshape)        (None, 128, 40, 1)        0         \n",
            "                                                                 \n",
            " conv2d_76 (Conv2D)          (None, 128, 40, 8)        80        \n",
            "                                                                 \n",
            " max_pooling2d_74 (MaxPoolin  (None, 64, 20, 8)        0         \n",
            " g2D)                                                            \n",
            "                                                                 \n",
            " batch_normalization_37 (Bat  (None, 64, 20, 8)        32        \n",
            " chNormalization)                                                \n",
            "                                                                 \n",
            " conv2d_77 (Conv2D)          (None, 64, 20, 16)        12816     \n",
            "                                                                 \n",
            " max_pooling2d_75 (MaxPoolin  (None, 32, 10, 16)       0         \n",
            " g2D)                                                            \n",
            "                                                                 \n",
            " dropout_37 (Dropout)        (None, 32, 10, 16)        0         \n",
            "                                                                 \n",
            " flatten_37 (Flatten)        (None, 5120)              0         \n",
            "                                                                 \n",
            " y_pred (Dense)              (None, 10)                51210     \n",
            "                                                                 \n",
            "=================================================================\n",
            "Total params: 64,138\n",
            "Trainable params: 64,122\n",
            "Non-trainable params: 16\n",
            "_________________________________________________________________\n"
          ]
        },
        {
          "output_type": "stream",
          "name": "stderr",
          "text": [
            "/usr/local/lib/python3.7/dist-packages/ipykernel_launcher.py:15: DeprecationWarning: time.clock has been deprecated in Python 3.3 and will be removed from Python 3.8: use time.perf_counter or time.process_time instead\n",
            "  from ipykernel import kernelapp as app\n",
            "/usr/local/lib/python3.7/dist-packages/ipykernel_launcher.py:18: DeprecationWarning: time.clock has been deprecated in Python 3.3 and will be removed from Python 3.8: use time.perf_counter or time.process_time instead\n",
            " 10%|█         | 1/10 [00:01<00:16,  1.86s/it]"
          ]
        },
        {
          "output_type": "stream",
          "name": "stdout",
          "text": [
            "CPU Time:  2.782277000000022\n",
            "Number of predictions: 755\n",
            "Average running time for a sample: 0.003685135099337777\n",
            "Fold 0 finished!\n",
            "当前进程的内存使用：7.0786 GB\n",
            "Model: \"sequential_39\"\n",
            "_________________________________________________________________\n",
            " Layer (type)                Output Shape              Param #   \n",
            "=================================================================\n",
            " reshape_38 (Reshape)        (None, 128, 40, 1)        0         \n",
            "                                                                 \n",
            " conv2d_76 (Conv2D)          (None, 128, 40, 8)        80        \n",
            "                                                                 \n",
            " max_pooling2d_74 (MaxPoolin  (None, 64, 20, 8)        0         \n",
            " g2D)                                                            \n",
            "                                                                 \n",
            " batch_normalization_37 (Bat  (None, 64, 20, 8)        32        \n",
            " chNormalization)                                                \n",
            "                                                                 \n",
            " conv2d_77 (Conv2D)          (None, 64, 20, 16)        12816     \n",
            "                                                                 \n",
            " max_pooling2d_75 (MaxPoolin  (None, 32, 10, 16)       0         \n",
            " g2D)                                                            \n",
            "                                                                 \n",
            " dropout_37 (Dropout)        (None, 32, 10, 16)        0         \n",
            "                                                                 \n",
            " flatten_37 (Flatten)        (None, 5120)              0         \n",
            "                                                                 \n",
            " y_pred (Dense)              (None, 10)                51210     \n",
            "                                                                 \n",
            "=================================================================\n",
            "Total params: 64,138\n",
            "Trainable params: 64,122\n",
            "Non-trainable params: 16\n",
            "_________________________________________________________________\n"
          ]
        },
        {
          "output_type": "stream",
          "name": "stderr",
          "text": [
            "\r 20%|██        | 2/10 [00:03<00:14,  1.82s/it]"
          ]
        },
        {
          "output_type": "stream",
          "name": "stdout",
          "text": [
            "CPU Time:  2.7652550000000247\n",
            "Number of predictions: 745\n",
            "Average running time for a sample: 0.003711751677852382\n",
            "Fold 1 finished!\n",
            "当前进程的内存使用：7.0786 GB\n",
            "Model: \"sequential_39\"\n",
            "_________________________________________________________________\n",
            " Layer (type)                Output Shape              Param #   \n",
            "=================================================================\n",
            " reshape_38 (Reshape)        (None, 128, 40, 1)        0         \n",
            "                                                                 \n",
            " conv2d_76 (Conv2D)          (None, 128, 40, 8)        80        \n",
            "                                                                 \n",
            " max_pooling2d_74 (MaxPoolin  (None, 64, 20, 8)        0         \n",
            " g2D)                                                            \n",
            "                                                                 \n",
            " batch_normalization_37 (Bat  (None, 64, 20, 8)        32        \n",
            " chNormalization)                                                \n",
            "                                                                 \n",
            " conv2d_77 (Conv2D)          (None, 64, 20, 16)        12816     \n",
            "                                                                 \n",
            " max_pooling2d_75 (MaxPoolin  (None, 32, 10, 16)       0         \n",
            " g2D)                                                            \n",
            "                                                                 \n",
            " dropout_37 (Dropout)        (None, 32, 10, 16)        0         \n",
            "                                                                 \n",
            " flatten_37 (Flatten)        (None, 5120)              0         \n",
            "                                                                 \n",
            " y_pred (Dense)              (None, 10)                51210     \n",
            "                                                                 \n",
            "=================================================================\n",
            "Total params: 64,138\n",
            "Trainable params: 64,122\n",
            "Non-trainable params: 16\n",
            "_________________________________________________________________\n"
          ]
        },
        {
          "output_type": "stream",
          "name": "stderr",
          "text": [
            "\r 30%|███       | 3/10 [00:05<00:14,  2.01s/it]"
          ]
        },
        {
          "output_type": "stream",
          "name": "stdout",
          "text": [
            "CPU Time:  3.024921999999947\n",
            "Number of predictions: 815\n",
            "Average running time for a sample: 0.0037115607361962537\n",
            "Fold 2 finished!\n",
            "当前进程的内存使用：7.0944 GB\n",
            "Model: \"sequential_39\"\n",
            "_________________________________________________________________\n",
            " Layer (type)                Output Shape              Param #   \n",
            "=================================================================\n",
            " reshape_38 (Reshape)        (None, 128, 40, 1)        0         \n",
            "                                                                 \n",
            " conv2d_76 (Conv2D)          (None, 128, 40, 8)        80        \n",
            "                                                                 \n",
            " max_pooling2d_74 (MaxPoolin  (None, 64, 20, 8)        0         \n",
            " g2D)                                                            \n",
            "                                                                 \n",
            " batch_normalization_37 (Bat  (None, 64, 20, 8)        32        \n",
            " chNormalization)                                                \n",
            "                                                                 \n",
            " conv2d_77 (Conv2D)          (None, 64, 20, 16)        12816     \n",
            "                                                                 \n",
            " max_pooling2d_75 (MaxPoolin  (None, 32, 10, 16)       0         \n",
            " g2D)                                                            \n",
            "                                                                 \n",
            " dropout_37 (Dropout)        (None, 32, 10, 16)        0         \n",
            "                                                                 \n",
            " flatten_37 (Flatten)        (None, 5120)              0         \n",
            "                                                                 \n",
            " y_pred (Dense)              (None, 10)                51210     \n",
            "                                                                 \n",
            "=================================================================\n",
            "Total params: 64,138\n",
            "Trainable params: 64,122\n",
            "Non-trainable params: 16\n",
            "_________________________________________________________________\n"
          ]
        },
        {
          "output_type": "stream",
          "name": "stderr",
          "text": [
            "\r 40%|████      | 4/10 [00:07<00:12,  2.03s/it]"
          ]
        },
        {
          "output_type": "stream",
          "name": "stdout",
          "text": [
            "CPU Time:  3.066936999999939\n",
            "Number of predictions: 827\n",
            "Average running time for a sample: 0.0037085090689237474\n",
            "Fold 3 finished!\n",
            "当前进程的内存使用：7.0945 GB\n",
            "Model: \"sequential_39\"\n",
            "_________________________________________________________________\n",
            " Layer (type)                Output Shape              Param #   \n",
            "=================================================================\n",
            " reshape_38 (Reshape)        (None, 128, 40, 1)        0         \n",
            "                                                                 \n",
            " conv2d_76 (Conv2D)          (None, 128, 40, 8)        80        \n",
            "                                                                 \n",
            " max_pooling2d_74 (MaxPoolin  (None, 64, 20, 8)        0         \n",
            " g2D)                                                            \n",
            "                                                                 \n",
            " batch_normalization_37 (Bat  (None, 64, 20, 8)        32        \n",
            " chNormalization)                                                \n",
            "                                                                 \n",
            " conv2d_77 (Conv2D)          (None, 64, 20, 16)        12816     \n",
            "                                                                 \n",
            " max_pooling2d_75 (MaxPoolin  (None, 32, 10, 16)       0         \n",
            " g2D)                                                            \n",
            "                                                                 \n",
            " dropout_37 (Dropout)        (None, 32, 10, 16)        0         \n",
            "                                                                 \n",
            " flatten_37 (Flatten)        (None, 5120)              0         \n",
            "                                                                 \n",
            " y_pred (Dense)              (None, 10)                51210     \n",
            "                                                                 \n",
            "=================================================================\n",
            "Total params: 64,138\n",
            "Trainable params: 64,122\n",
            "Non-trainable params: 16\n",
            "_________________________________________________________________\n"
          ]
        },
        {
          "output_type": "stream",
          "name": "stderr",
          "text": [
            "\r 50%|█████     | 5/10 [00:09<00:09,  1.98s/it]"
          ]
        },
        {
          "output_type": "stream",
          "name": "stdout",
          "text": [
            "CPU Time:  2.9427759999999807\n",
            "Number of predictions: 788\n",
            "Average running time for a sample: 0.0037344873096446457\n",
            "Fold 4 finished!\n",
            "当前进程的内存使用：7.1099 GB\n",
            "Model: \"sequential_39\"\n",
            "_________________________________________________________________\n",
            " Layer (type)                Output Shape              Param #   \n",
            "=================================================================\n",
            " reshape_38 (Reshape)        (None, 128, 40, 1)        0         \n",
            "                                                                 \n",
            " conv2d_76 (Conv2D)          (None, 128, 40, 8)        80        \n",
            "                                                                 \n",
            " max_pooling2d_74 (MaxPoolin  (None, 64, 20, 8)        0         \n",
            " g2D)                                                            \n",
            "                                                                 \n",
            " batch_normalization_37 (Bat  (None, 64, 20, 8)        32        \n",
            " chNormalization)                                                \n",
            "                                                                 \n",
            " conv2d_77 (Conv2D)          (None, 64, 20, 16)        12816     \n",
            "                                                                 \n",
            " max_pooling2d_75 (MaxPoolin  (None, 32, 10, 16)       0         \n",
            " g2D)                                                            \n",
            "                                                                 \n",
            " dropout_37 (Dropout)        (None, 32, 10, 16)        0         \n",
            "                                                                 \n",
            " flatten_37 (Flatten)        (None, 5120)              0         \n",
            "                                                                 \n",
            " y_pred (Dense)              (None, 10)                51210     \n",
            "                                                                 \n",
            "=================================================================\n",
            "Total params: 64,138\n",
            "Trainable params: 64,122\n",
            "Non-trainable params: 16\n",
            "_________________________________________________________________\n"
          ]
        },
        {
          "output_type": "stream",
          "name": "stderr",
          "text": [
            "\r 60%|██████    | 6/10 [00:11<00:07,  1.90s/it]"
          ]
        },
        {
          "output_type": "stream",
          "name": "stdout",
          "text": [
            "CPU Time:  2.6448950000000195\n",
            "Number of predictions: 706\n",
            "Average running time for a sample: 0.003746310198300311\n",
            "Fold 5 finished!\n",
            "当前进程的内存使用：7.1238 GB\n",
            "Model: \"sequential_39\"\n",
            "_________________________________________________________________\n",
            " Layer (type)                Output Shape              Param #   \n",
            "=================================================================\n",
            " reshape_38 (Reshape)        (None, 128, 40, 1)        0         \n",
            "                                                                 \n",
            " conv2d_76 (Conv2D)          (None, 128, 40, 8)        80        \n",
            "                                                                 \n",
            " max_pooling2d_74 (MaxPoolin  (None, 64, 20, 8)        0         \n",
            " g2D)                                                            \n",
            "                                                                 \n",
            " batch_normalization_37 (Bat  (None, 64, 20, 8)        32        \n",
            " chNormalization)                                                \n",
            "                                                                 \n",
            " conv2d_77 (Conv2D)          (None, 64, 20, 16)        12816     \n",
            "                                                                 \n",
            " max_pooling2d_75 (MaxPoolin  (None, 32, 10, 16)       0         \n",
            " g2D)                                                            \n",
            "                                                                 \n",
            " dropout_37 (Dropout)        (None, 32, 10, 16)        0         \n",
            "                                                                 \n",
            " flatten_37 (Flatten)        (None, 5120)              0         \n",
            "                                                                 \n",
            " y_pred (Dense)              (None, 10)                51210     \n",
            "                                                                 \n",
            "=================================================================\n",
            "Total params: 64,138\n",
            "Trainable params: 64,122\n",
            "Non-trainable params: 16\n",
            "_________________________________________________________________\n"
          ]
        },
        {
          "output_type": "stream",
          "name": "stderr",
          "text": [
            "\r 70%|███████   | 7/10 [00:13<00:05,  1.84s/it]"
          ]
        },
        {
          "output_type": "stream",
          "name": "stdout",
          "text": [
            "CPU Time:  2.721740999999952\n",
            "Number of predictions: 733\n",
            "Average running time for a sample: 0.0037131527967257188\n",
            "Fold 6 finished!\n",
            "当前进程的内存使用：7.1238 GB\n",
            "Model: \"sequential_39\"\n",
            "_________________________________________________________________\n",
            " Layer (type)                Output Shape              Param #   \n",
            "=================================================================\n",
            " reshape_38 (Reshape)        (None, 128, 40, 1)        0         \n",
            "                                                                 \n",
            " conv2d_76 (Conv2D)          (None, 128, 40, 8)        80        \n",
            "                                                                 \n",
            " max_pooling2d_74 (MaxPoolin  (None, 64, 20, 8)        0         \n",
            " g2D)                                                            \n",
            "                                                                 \n",
            " batch_normalization_37 (Bat  (None, 64, 20, 8)        32        \n",
            " chNormalization)                                                \n",
            "                                                                 \n",
            " conv2d_77 (Conv2D)          (None, 64, 20, 16)        12816     \n",
            "                                                                 \n",
            " max_pooling2d_75 (MaxPoolin  (None, 32, 10, 16)       0         \n",
            " g2D)                                                            \n",
            "                                                                 \n",
            " dropout_37 (Dropout)        (None, 32, 10, 16)        0         \n",
            "                                                                 \n",
            " flatten_37 (Flatten)        (None, 5120)              0         \n",
            "                                                                 \n",
            " y_pred (Dense)              (None, 10)                51210     \n",
            "                                                                 \n",
            "=================================================================\n",
            "Total params: 64,138\n",
            "Trainable params: 64,122\n",
            "Non-trainable params: 16\n",
            "_________________________________________________________________\n"
          ]
        },
        {
          "output_type": "stream",
          "name": "stderr",
          "text": [
            "\r 80%|████████  | 8/10 [00:15<00:03,  1.82s/it]"
          ]
        },
        {
          "output_type": "stream",
          "name": "stdout",
          "text": [
            "CPU Time:  2.5455639999998994\n",
            "Number of predictions: 684\n",
            "Average running time for a sample: 0.00372158479532149\n",
            "Fold 7 finished!\n",
            "当前进程的内存使用：7.1238 GB\n",
            "Model: \"sequential_39\"\n",
            "_________________________________________________________________\n",
            " Layer (type)                Output Shape              Param #   \n",
            "=================================================================\n",
            " reshape_38 (Reshape)        (None, 128, 40, 1)        0         \n",
            "                                                                 \n",
            " conv2d_76 (Conv2D)          (None, 128, 40, 8)        80        \n",
            "                                                                 \n",
            " max_pooling2d_74 (MaxPoolin  (None, 64, 20, 8)        0         \n",
            " g2D)                                                            \n",
            "                                                                 \n",
            " batch_normalization_37 (Bat  (None, 64, 20, 8)        32        \n",
            " chNormalization)                                                \n",
            "                                                                 \n",
            " conv2d_77 (Conv2D)          (None, 64, 20, 16)        12816     \n",
            "                                                                 \n",
            " max_pooling2d_75 (MaxPoolin  (None, 32, 10, 16)       0         \n",
            " g2D)                                                            \n",
            "                                                                 \n",
            " dropout_37 (Dropout)        (None, 32, 10, 16)        0         \n",
            "                                                                 \n",
            " flatten_37 (Flatten)        (None, 5120)              0         \n",
            "                                                                 \n",
            " y_pred (Dense)              (None, 10)                51210     \n",
            "                                                                 \n",
            "=================================================================\n",
            "Total params: 64,138\n",
            "Trainable params: 64,122\n",
            "Non-trainable params: 16\n",
            "_________________________________________________________________\n"
          ]
        },
        {
          "output_type": "stream",
          "name": "stderr",
          "text": [
            "\r 90%|█████████ | 9/10 [00:18<00:02,  2.17s/it]"
          ]
        },
        {
          "output_type": "stream",
          "name": "stdout",
          "text": [
            "CPU Time:  2.7331460000000334\n",
            "Number of predictions: 708\n",
            "Average running time for a sample: 0.0038603757062147365\n",
            "Fold 8 finished!\n",
            "当前进程的内存使用：7.1240 GB\n",
            "Model: \"sequential_39\"\n",
            "_________________________________________________________________\n",
            " Layer (type)                Output Shape              Param #   \n",
            "=================================================================\n",
            " reshape_38 (Reshape)        (None, 128, 40, 1)        0         \n",
            "                                                                 \n",
            " conv2d_76 (Conv2D)          (None, 128, 40, 8)        80        \n",
            "                                                                 \n",
            " max_pooling2d_74 (MaxPoolin  (None, 64, 20, 8)        0         \n",
            " g2D)                                                            \n",
            "                                                                 \n",
            " batch_normalization_37 (Bat  (None, 64, 20, 8)        32        \n",
            " chNormalization)                                                \n",
            "                                                                 \n",
            " conv2d_77 (Conv2D)          (None, 64, 20, 16)        12816     \n",
            "                                                                 \n",
            " max_pooling2d_75 (MaxPoolin  (None, 32, 10, 16)       0         \n",
            " g2D)                                                            \n",
            "                                                                 \n",
            " dropout_37 (Dropout)        (None, 32, 10, 16)        0         \n",
            "                                                                 \n",
            " flatten_37 (Flatten)        (None, 5120)              0         \n",
            "                                                                 \n",
            " y_pred (Dense)              (None, 10)                51210     \n",
            "                                                                 \n",
            "=================================================================\n",
            "Total params: 64,138\n",
            "Trainable params: 64,122\n",
            "Non-trainable params: 16\n",
            "_________________________________________________________________\n"
          ]
        },
        {
          "output_type": "stream",
          "name": "stderr",
          "text": [
            "100%|██████████| 10/10 [00:19<00:00,  1.99s/it]"
          ]
        },
        {
          "output_type": "stream",
          "name": "stdout",
          "text": [
            "CPU Time:  2.6983040000000074\n",
            "Number of predictions: 717\n",
            "Average running time for a sample: 0.0037633249651325066\n",
            "Fold 9 finished!\n",
            "当前进程的内存使用：7.1240 GB\n"
          ]
        },
        {
          "output_type": "stream",
          "name": "stderr",
          "text": [
            "\n"
          ]
        }
      ]
    },
    {
      "cell_type": "markdown",
      "source": [
        "Running Time for HHCNN"
      ],
      "metadata": {
        "id": "1cyh0mCPHyQC"
      }
    },
    {
      "cell_type": "code",
      "source": [
        "for i in tqdm(range(10)):\n",
        "  #from tensorflow.compat.v1.keras import backend as K\n",
        "  import tensorflow as tf\n",
        "\n",
        "  import os\n",
        "  import psutil\n",
        "\n",
        "  X_test =np.load(\"drive/MyDrive/Thesis_Keras/TenFoldDataset/datasetnpy/MelConv1/mel/\"+f\"fold{i + 1}\"+\"/X.npy\")\n",
        "  y_test=np.load(\"drive/MyDrive/Thesis_Keras/TenFoldDataset/datasetnpy/MelConv1/mel/\"+f\"fold{i + 1}\"+\"/y.npy\")\n",
        "  \n",
        "  modelPth=\"/content/drive/MyDrive/Thesis_Keras/model/saved/HHCNNfold7.h5\"\n",
        "  model=load_model(modelPth)\n",
        "  model.summary()\n",
        "  import time\n",
        "  start = time.clock()\n",
        "\n",
        "  pre_y = model.predict(X_test)\n",
        "  end =  time.clock()\n",
        "  print(\"CPU Time: \", end - start)\n",
        "\n",
        "  numofY=pre_y.shape[0]\n",
        "  print(\"Number of predictions:\",numofY)\n",
        "  print(\"Average running time for a sample:\",(end - start)/numofY)\n",
        "  pre_New=np.argmax(pre_y)\n",
        "  \n",
        "  print(f\"Fold {i} finished!\")\n",
        "  print(u'当前进程的内存使用：%.4f GB' % (psutil.Process(os.getpid()).memory_info().rss / 1024 / 1024 / 1024) )"
      ],
      "metadata": {
        "colab": {
          "base_uri": "https://localhost:8080/"
        },
        "id": "0EtaMuNaHx0C",
        "outputId": "ab4edeaf-4acd-4c32-93e6-19cf6060acbf"
      },
      "execution_count": null,
      "outputs": [
        {
          "output_type": "stream",
          "name": "stderr",
          "text": [
            "\r  0%|          | 0/10 [00:00<?, ?it/s]"
          ]
        },
        {
          "output_type": "stream",
          "name": "stdout",
          "text": [
            "Model: \"sequential_12\"\n",
            "_________________________________________________________________\n",
            " Layer (type)                Output Shape              Param #   \n",
            "=================================================================\n",
            " reshape_12 (Reshape)        (None, 128, 40)           0         \n",
            "                                                                 \n",
            " conv1d_24 (Conv1D)          (None, 128, 8)            968       \n",
            "                                                                 \n",
            " max_pooling1d_24 (MaxPoolin  (None, 64, 8)            0         \n",
            " g1D)                                                            \n",
            "                                                                 \n",
            " conv1d_25 (Conv1D)          (None, 64, 16)            400       \n",
            "                                                                 \n",
            " max_pooling1d_25 (MaxPoolin  (None, 32, 16)           0         \n",
            " g1D)                                                            \n",
            "                                                                 \n",
            " flatten_12 (Flatten)        (None, 512)               0         \n",
            "                                                                 \n",
            " dropout_24 (Dropout)        (None, 512)               0         \n",
            "                                                                 \n",
            " dense_12 (Dense)            (None, 64)                32832     \n",
            "                                                                 \n",
            " dropout_25 (Dropout)        (None, 64)                0         \n",
            "                                                                 \n",
            " y_pred (Dense)              (None, 10)                650       \n",
            "                                                                 \n",
            "=================================================================\n",
            "Total params: 34,850\n",
            "Trainable params: 34,850\n",
            "Non-trainable params: 0\n",
            "_________________________________________________________________\n"
          ]
        },
        {
          "output_type": "stream",
          "name": "stderr",
          "text": [
            "/usr/local/lib/python3.7/dist-packages/ipykernel_launcher.py:15: DeprecationWarning: time.clock has been deprecated in Python 3.3 and will be removed from Python 3.8: use time.perf_counter or time.process_time instead\n",
            "  from ipykernel import kernelapp as app\n",
            "/usr/local/lib/python3.7/dist-packages/ipykernel_launcher.py:18: DeprecationWarning: time.clock has been deprecated in Python 3.3 and will be removed from Python 3.8: use time.perf_counter or time.process_time instead\n",
            " 10%|█         | 1/10 [00:00<00:05,  1.67it/s]"
          ]
        },
        {
          "output_type": "stream",
          "name": "stdout",
          "text": [
            "CPU Time:  0.2872130000000652\n",
            "Number of predictions: 755\n",
            "Average running time for a sample: 0.0003804145695365102\n",
            "Fold 0 finished!\n",
            "当前进程的内存使用：5.2701 GB\n",
            "Model: \"sequential_12\"\n",
            "_________________________________________________________________\n",
            " Layer (type)                Output Shape              Param #   \n",
            "=================================================================\n",
            " reshape_12 (Reshape)        (None, 128, 40)           0         \n",
            "                                                                 \n",
            " conv1d_24 (Conv1D)          (None, 128, 8)            968       \n",
            "                                                                 \n",
            " max_pooling1d_24 (MaxPoolin  (None, 64, 8)            0         \n",
            " g1D)                                                            \n",
            "                                                                 \n",
            " conv1d_25 (Conv1D)          (None, 64, 16)            400       \n",
            "                                                                 \n",
            " max_pooling1d_25 (MaxPoolin  (None, 32, 16)           0         \n",
            " g1D)                                                            \n",
            "                                                                 \n",
            " flatten_12 (Flatten)        (None, 512)               0         \n",
            "                                                                 \n",
            " dropout_24 (Dropout)        (None, 512)               0         \n",
            "                                                                 \n",
            " dense_12 (Dense)            (None, 64)                32832     \n",
            "                                                                 \n",
            " dropout_25 (Dropout)        (None, 64)                0         \n",
            "                                                                 \n",
            " y_pred (Dense)              (None, 10)                650       \n",
            "                                                                 \n",
            "=================================================================\n",
            "Total params: 34,850\n",
            "Trainable params: 34,850\n",
            "Non-trainable params: 0\n",
            "_________________________________________________________________\n"
          ]
        },
        {
          "output_type": "stream",
          "name": "stderr",
          "text": [
            "\r 20%|██        | 2/10 [00:01<00:04,  1.69it/s]"
          ]
        },
        {
          "output_type": "stream",
          "name": "stdout",
          "text": [
            "CPU Time:  0.2779570000000149\n",
            "Number of predictions: 745\n",
            "Average running time for a sample: 0.000373096644295322\n",
            "Fold 1 finished!\n",
            "当前进程的内存使用：5.2707 GB\n",
            "Model: \"sequential_12\"\n",
            "_________________________________________________________________\n",
            " Layer (type)                Output Shape              Param #   \n",
            "=================================================================\n",
            " reshape_12 (Reshape)        (None, 128, 40)           0         \n",
            "                                                                 \n",
            " conv1d_24 (Conv1D)          (None, 128, 8)            968       \n",
            "                                                                 \n",
            " max_pooling1d_24 (MaxPoolin  (None, 64, 8)            0         \n",
            " g1D)                                                            \n",
            "                                                                 \n",
            " conv1d_25 (Conv1D)          (None, 64, 16)            400       \n",
            "                                                                 \n",
            " max_pooling1d_25 (MaxPoolin  (None, 32, 16)           0         \n",
            " g1D)                                                            \n",
            "                                                                 \n",
            " flatten_12 (Flatten)        (None, 512)               0         \n",
            "                                                                 \n",
            " dropout_24 (Dropout)        (None, 512)               0         \n",
            "                                                                 \n",
            " dense_12 (Dense)            (None, 64)                32832     \n",
            "                                                                 \n",
            " dropout_25 (Dropout)        (None, 64)                0         \n",
            "                                                                 \n",
            " y_pred (Dense)              (None, 10)                650       \n",
            "                                                                 \n",
            "=================================================================\n",
            "Total params: 34,850\n",
            "Trainable params: 34,850\n",
            "Non-trainable params: 0\n",
            "_________________________________________________________________\n"
          ]
        },
        {
          "output_type": "stream",
          "name": "stderr",
          "text": [
            "\r 30%|███       | 3/10 [00:01<00:04,  1.73it/s]"
          ]
        },
        {
          "output_type": "stream",
          "name": "stdout",
          "text": [
            "CPU Time:  0.28064500000004955\n",
            "Number of predictions: 815\n",
            "Average running time for a sample: 0.00034434969325159456\n",
            "Fold 2 finished!\n",
            "当前进程的内存使用：5.2714 GB\n",
            "Model: \"sequential_12\"\n",
            "_________________________________________________________________\n",
            " Layer (type)                Output Shape              Param #   \n",
            "=================================================================\n",
            " reshape_12 (Reshape)        (None, 128, 40)           0         \n",
            "                                                                 \n",
            " conv1d_24 (Conv1D)          (None, 128, 8)            968       \n",
            "                                                                 \n",
            " max_pooling1d_24 (MaxPoolin  (None, 64, 8)            0         \n",
            " g1D)                                                            \n",
            "                                                                 \n",
            " conv1d_25 (Conv1D)          (None, 64, 16)            400       \n",
            "                                                                 \n",
            " max_pooling1d_25 (MaxPoolin  (None, 32, 16)           0         \n",
            " g1D)                                                            \n",
            "                                                                 \n",
            " flatten_12 (Flatten)        (None, 512)               0         \n",
            "                                                                 \n",
            " dropout_24 (Dropout)        (None, 512)               0         \n",
            "                                                                 \n",
            " dense_12 (Dense)            (None, 64)                32832     \n",
            "                                                                 \n",
            " dropout_25 (Dropout)        (None, 64)                0         \n",
            "                                                                 \n",
            " y_pred (Dense)              (None, 10)                650       \n",
            "                                                                 \n",
            "=================================================================\n",
            "Total params: 34,850\n",
            "Trainable params: 34,850\n",
            "Non-trainable params: 0\n",
            "_________________________________________________________________\n"
          ]
        },
        {
          "output_type": "stream",
          "name": "stderr",
          "text": [
            "\r 40%|████      | 4/10 [00:02<00:03,  1.79it/s]"
          ]
        },
        {
          "output_type": "stream",
          "name": "stdout",
          "text": [
            "CPU Time:  0.2753260000000637\n",
            "Number of predictions: 827\n",
            "Average running time for a sample: 0.00033292140266029467\n",
            "Fold 3 finished!\n",
            "当前进程的内存使用：5.2728 GB\n",
            "Model: \"sequential_12\"\n",
            "_________________________________________________________________\n",
            " Layer (type)                Output Shape              Param #   \n",
            "=================================================================\n",
            " reshape_12 (Reshape)        (None, 128, 40)           0         \n",
            "                                                                 \n",
            " conv1d_24 (Conv1D)          (None, 128, 8)            968       \n",
            "                                                                 \n",
            " max_pooling1d_24 (MaxPoolin  (None, 64, 8)            0         \n",
            " g1D)                                                            \n",
            "                                                                 \n",
            " conv1d_25 (Conv1D)          (None, 64, 16)            400       \n",
            "                                                                 \n",
            " max_pooling1d_25 (MaxPoolin  (None, 32, 16)           0         \n",
            " g1D)                                                            \n",
            "                                                                 \n",
            " flatten_12 (Flatten)        (None, 512)               0         \n",
            "                                                                 \n",
            " dropout_24 (Dropout)        (None, 512)               0         \n",
            "                                                                 \n",
            " dense_12 (Dense)            (None, 64)                32832     \n",
            "                                                                 \n",
            " dropout_25 (Dropout)        (None, 64)                0         \n",
            "                                                                 \n",
            " y_pred (Dense)              (None, 10)                650       \n",
            "                                                                 \n",
            "=================================================================\n",
            "Total params: 34,850\n",
            "Trainable params: 34,850\n",
            "Non-trainable params: 0\n",
            "_________________________________________________________________\n"
          ]
        },
        {
          "output_type": "stream",
          "name": "stderr",
          "text": [
            "\r 50%|█████     | 5/10 [00:02<00:02,  1.84it/s]"
          ]
        },
        {
          "output_type": "stream",
          "name": "stdout",
          "text": [
            "CPU Time:  0.29542000000003554\n",
            "Number of predictions: 788\n",
            "Average running time for a sample: 0.0003748984771574055\n",
            "Fold 4 finished!\n",
            "当前进程的内存使用：5.2739 GB\n",
            "Model: \"sequential_12\"\n",
            "_________________________________________________________________\n",
            " Layer (type)                Output Shape              Param #   \n",
            "=================================================================\n",
            " reshape_12 (Reshape)        (None, 128, 40)           0         \n",
            "                                                                 \n",
            " conv1d_24 (Conv1D)          (None, 128, 8)            968       \n",
            "                                                                 \n",
            " max_pooling1d_24 (MaxPoolin  (None, 64, 8)            0         \n",
            " g1D)                                                            \n",
            "                                                                 \n",
            " conv1d_25 (Conv1D)          (None, 64, 16)            400       \n",
            "                                                                 \n",
            " max_pooling1d_25 (MaxPoolin  (None, 32, 16)           0         \n",
            " g1D)                                                            \n",
            "                                                                 \n",
            " flatten_12 (Flatten)        (None, 512)               0         \n",
            "                                                                 \n",
            " dropout_24 (Dropout)        (None, 512)               0         \n",
            "                                                                 \n",
            " dense_12 (Dense)            (None, 64)                32832     \n",
            "                                                                 \n",
            " dropout_25 (Dropout)        (None, 64)                0         \n",
            "                                                                 \n",
            " y_pred (Dense)              (None, 10)                650       \n",
            "                                                                 \n",
            "=================================================================\n",
            "Total params: 34,850\n",
            "Trainable params: 34,850\n",
            "Non-trainable params: 0\n",
            "_________________________________________________________________\n"
          ]
        },
        {
          "output_type": "stream",
          "name": "stderr",
          "text": [
            "\r 60%|██████    | 6/10 [00:03<00:02,  1.79it/s]"
          ]
        },
        {
          "output_type": "stream",
          "name": "stdout",
          "text": [
            "CPU Time:  0.26083600000004026\n",
            "Number of predictions: 706\n",
            "Average running time for a sample: 0.0003694560906516151\n",
            "Fold 5 finished!\n",
            "当前进程的内存使用：5.2740 GB\n",
            "Model: \"sequential_12\"\n",
            "_________________________________________________________________\n",
            " Layer (type)                Output Shape              Param #   \n",
            "=================================================================\n",
            " reshape_12 (Reshape)        (None, 128, 40)           0         \n",
            "                                                                 \n",
            " conv1d_24 (Conv1D)          (None, 128, 8)            968       \n",
            "                                                                 \n",
            " max_pooling1d_24 (MaxPoolin  (None, 64, 8)            0         \n",
            " g1D)                                                            \n",
            "                                                                 \n",
            " conv1d_25 (Conv1D)          (None, 64, 16)            400       \n",
            "                                                                 \n",
            " max_pooling1d_25 (MaxPoolin  (None, 32, 16)           0         \n",
            " g1D)                                                            \n",
            "                                                                 \n",
            " flatten_12 (Flatten)        (None, 512)               0         \n",
            "                                                                 \n",
            " dropout_24 (Dropout)        (None, 512)               0         \n",
            "                                                                 \n",
            " dense_12 (Dense)            (None, 64)                32832     \n",
            "                                                                 \n",
            " dropout_25 (Dropout)        (None, 64)                0         \n",
            "                                                                 \n",
            " y_pred (Dense)              (None, 10)                650       \n",
            "                                                                 \n",
            "=================================================================\n",
            "Total params: 34,850\n",
            "Trainable params: 34,850\n",
            "Non-trainable params: 0\n",
            "_________________________________________________________________\n"
          ]
        },
        {
          "output_type": "stream",
          "name": "stderr",
          "text": [
            "\r 70%|███████   | 7/10 [00:03<00:01,  1.84it/s]"
          ]
        },
        {
          "output_type": "stream",
          "name": "stdout",
          "text": [
            "CPU Time:  0.26194199999997636\n",
            "Number of predictions: 733\n",
            "Average running time for a sample: 0.0003573560709413047\n",
            "Fold 6 finished!\n",
            "当前进程的内存使用：5.2741 GB\n",
            "Model: \"sequential_12\"\n",
            "_________________________________________________________________\n",
            " Layer (type)                Output Shape              Param #   \n",
            "=================================================================\n",
            " reshape_12 (Reshape)        (None, 128, 40)           0         \n",
            "                                                                 \n",
            " conv1d_24 (Conv1D)          (None, 128, 8)            968       \n",
            "                                                                 \n",
            " max_pooling1d_24 (MaxPoolin  (None, 64, 8)            0         \n",
            " g1D)                                                            \n",
            "                                                                 \n",
            " conv1d_25 (Conv1D)          (None, 64, 16)            400       \n",
            "                                                                 \n",
            " max_pooling1d_25 (MaxPoolin  (None, 32, 16)           0         \n",
            " g1D)                                                            \n",
            "                                                                 \n",
            " flatten_12 (Flatten)        (None, 512)               0         \n",
            "                                                                 \n",
            " dropout_24 (Dropout)        (None, 512)               0         \n",
            "                                                                 \n",
            " dense_12 (Dense)            (None, 64)                32832     \n",
            "                                                                 \n",
            " dropout_25 (Dropout)        (None, 64)                0         \n",
            "                                                                 \n",
            " y_pred (Dense)              (None, 10)                650       \n",
            "                                                                 \n",
            "=================================================================\n",
            "Total params: 34,850\n",
            "Trainable params: 34,850\n",
            "Non-trainable params: 0\n",
            "_________________________________________________________________\n"
          ]
        },
        {
          "output_type": "stream",
          "name": "stderr",
          "text": [
            "\r 80%|████████  | 8/10 [00:04<00:01,  1.87it/s]"
          ]
        },
        {
          "output_type": "stream",
          "name": "stdout",
          "text": [
            "CPU Time:  0.2825080000000071\n",
            "Number of predictions: 684\n",
            "Average running time for a sample: 0.00041302339181287586\n",
            "Fold 7 finished!\n",
            "当前进程的内存使用：5.2821 GB\n",
            "Model: \"sequential_12\"\n",
            "_________________________________________________________________\n",
            " Layer (type)                Output Shape              Param #   \n",
            "=================================================================\n",
            " reshape_12 (Reshape)        (None, 128, 40)           0         \n",
            "                                                                 \n",
            " conv1d_24 (Conv1D)          (None, 128, 8)            968       \n",
            "                                                                 \n",
            " max_pooling1d_24 (MaxPoolin  (None, 64, 8)            0         \n",
            " g1D)                                                            \n",
            "                                                                 \n",
            " conv1d_25 (Conv1D)          (None, 64, 16)            400       \n",
            "                                                                 \n",
            " max_pooling1d_25 (MaxPoolin  (None, 32, 16)           0         \n",
            " g1D)                                                            \n",
            "                                                                 \n",
            " flatten_12 (Flatten)        (None, 512)               0         \n",
            "                                                                 \n",
            " dropout_24 (Dropout)        (None, 512)               0         \n",
            "                                                                 \n",
            " dense_12 (Dense)            (None, 64)                32832     \n",
            "                                                                 \n",
            " dropout_25 (Dropout)        (None, 64)                0         \n",
            "                                                                 \n",
            " y_pred (Dense)              (None, 10)                650       \n",
            "                                                                 \n",
            "=================================================================\n",
            "Total params: 34,850\n",
            "Trainable params: 34,850\n",
            "Non-trainable params: 0\n",
            "_________________________________________________________________\n"
          ]
        },
        {
          "output_type": "stream",
          "name": "stderr",
          "text": [
            "\r 90%|█████████ | 9/10 [00:05<00:00,  1.80it/s]"
          ]
        },
        {
          "output_type": "stream",
          "name": "stdout",
          "text": [
            "CPU Time:  0.2639839999999367\n",
            "Number of predictions: 708\n",
            "Average running time for a sample: 0.0003728587570620575\n",
            "Fold 8 finished!\n",
            "当前进程的内存使用：5.2822 GB\n",
            "Model: \"sequential_12\"\n",
            "_________________________________________________________________\n",
            " Layer (type)                Output Shape              Param #   \n",
            "=================================================================\n",
            " reshape_12 (Reshape)        (None, 128, 40)           0         \n",
            "                                                                 \n",
            " conv1d_24 (Conv1D)          (None, 128, 8)            968       \n",
            "                                                                 \n",
            " max_pooling1d_24 (MaxPoolin  (None, 64, 8)            0         \n",
            " g1D)                                                            \n",
            "                                                                 \n",
            " conv1d_25 (Conv1D)          (None, 64, 16)            400       \n",
            "                                                                 \n",
            " max_pooling1d_25 (MaxPoolin  (None, 32, 16)           0         \n",
            " g1D)                                                            \n",
            "                                                                 \n",
            " flatten_12 (Flatten)        (None, 512)               0         \n",
            "                                                                 \n",
            " dropout_24 (Dropout)        (None, 512)               0         \n",
            "                                                                 \n",
            " dense_12 (Dense)            (None, 64)                32832     \n",
            "                                                                 \n",
            " dropout_25 (Dropout)        (None, 64)                0         \n",
            "                                                                 \n",
            " y_pred (Dense)              (None, 10)                650       \n",
            "                                                                 \n",
            "=================================================================\n",
            "Total params: 34,850\n",
            "Trainable params: 34,850\n",
            "Non-trainable params: 0\n",
            "_________________________________________________________________\n"
          ]
        },
        {
          "output_type": "stream",
          "name": "stderr",
          "text": [
            "100%|██████████| 10/10 [00:05<00:00,  1.82it/s]"
          ]
        },
        {
          "output_type": "stream",
          "name": "stdout",
          "text": [
            "CPU Time:  0.26290500000004613\n",
            "Number of predictions: 717\n",
            "Average running time for a sample: 0.0003666736401674284\n",
            "Fold 9 finished!\n",
            "当前进程的内存使用：5.2823 GB\n"
          ]
        },
        {
          "output_type": "stream",
          "name": "stderr",
          "text": [
            "\n"
          ]
        }
      ]
    },
    {
      "cell_type": "markdown",
      "source": [
        "DSP Time for Spectrogram:Spec_Conv2"
      ],
      "metadata": {
        "id": "54wp5SrtLgaN"
      }
    },
    {
      "cell_type": "code",
      "source": [
        "import pandas as pd\n",
        "import time\n",
        "import os,glob,skimage,librosa\n",
        "csvPth = '/content/drive/MyDrive/Thesis_Keras/UrbanSound8K/metadata/UrbanSound8K.csv'\n",
        "df = pd.read_csv(csvPth)\n",
        "\n",
        "df.head()\n",
        "\n",
        "start = time.clock()\n",
        "\n",
        "pre_y = model.predict(X_test)\n",
        "  \n",
        "for i in tqdm(range(100)):\n",
        "    file_name = '/content/drive/MyDrive/Thesis_Keras/UrbanSound8K/audio/fold' + str(df[\"fold\"][i]) + '/' + df[\"slice_file_name\"][i]\n",
        "    class_id = df[\"classID\"][i]\n",
        "\n",
        "    y1, sr1 = librosa.load(file_name,sr=16000,duration=2)\n",
        "\n",
        "    spec=np.abs(librosa.stft(y1,n_fft=128,hop_length=324))\n",
        "\n",
        "end =  time.clock()\n",
        "print(\"CPU Time: \", end - start)\n",
        "    \n"
      ],
      "metadata": {
        "colab": {
          "base_uri": "https://localhost:8080/"
        },
        "id": "eMeZEJleLfvZ",
        "outputId": "f8bbd834-b2f4-4539-c02a-5c2cdb5b1ae1"
      },
      "execution_count": null,
      "outputs": [
        {
          "output_type": "stream",
          "name": "stderr",
          "text": [
            "/usr/local/lib/python3.7/dist-packages/ipykernel_launcher.py:9: DeprecationWarning: time.clock has been deprecated in Python 3.3 and will be removed from Python 3.8: use time.perf_counter or time.process_time instead\n",
            "  if __name__ == '__main__':\n",
            "100%|██████████| 100/100 [00:07<00:00, 13.50it/s]"
          ]
        },
        {
          "output_type": "stream",
          "name": "stdout",
          "text": [
            "CPU Time:  12.088161999999954\n"
          ]
        },
        {
          "output_type": "stream",
          "name": "stderr",
          "text": [
            "\n",
            "/usr/local/lib/python3.7/dist-packages/ipykernel_launcher.py:21: DeprecationWarning: time.clock has been deprecated in Python 3.3 and will be removed from Python 3.8: use time.perf_counter or time.process_time instead\n"
          ]
        }
      ]
    },
    {
      "cell_type": "markdown",
      "source": [
        "DSP Time for MFCC2D"
      ],
      "metadata": {
        "id": "PtiOw0xB5n4e"
      }
    },
    {
      "cell_type": "code",
      "source": [
        "import pandas as pd\n",
        "import time\n",
        "import os,glob,skimage,librosa\n",
        "csvPth = '/content/drive/MyDrive/Thesis_Keras/UrbanSound8K/metadata/UrbanSound8K.csv'\n",
        "df = pd.read_csv(csvPth)\n",
        "\n",
        "df.head()\n",
        "\n",
        "start = time.clock()\n",
        "\n",
        "pre_y = model.predict(X_test)\n",
        "  \n",
        "for i in tqdm(range(100)):\n",
        "    file_name = '/content/drive/MyDrive/Thesis_Keras/UrbanSound8K/audio/fold' + str(df[\"fold\"][i]) + '/' + df[\"slice_file_name\"][i]\n",
        "    class_id = df[\"classID\"][i]\n",
        "\n",
        "    #X, sample_rate = librosa.load(file_name, res_type='kaiser_fast')\n",
        "    \n",
        "    X, sample_rate = librosa.load(file_name, res_type='kaiser_fast', sr=16000,duration=2.97)\n",
        "\n",
        "\n",
        "    mfccs = librosa.feature.mfcc(y=X, sr=sample_rate, n_mfcc=40)\n",
        "\n",
        "end =  time.clock()\n",
        "print(\"CPU Time: \", end - start)"
      ],
      "metadata": {
        "colab": {
          "base_uri": "https://localhost:8080/"
        },
        "id": "_F_VWMKH5oBH",
        "outputId": "ba7d628a-dde1-48aa-e53f-d43104b74cea"
      },
      "execution_count": null,
      "outputs": [
        {
          "output_type": "stream",
          "name": "stderr",
          "text": [
            "/usr/local/lib/python3.7/dist-packages/ipykernel_launcher.py:9: DeprecationWarning: time.clock has been deprecated in Python 3.3 and will be removed from Python 3.8: use time.perf_counter or time.process_time instead\n",
            "  if __name__ == '__main__':\n",
            "100%|██████████| 100/100 [00:07<00:00, 12.98it/s]"
          ]
        },
        {
          "output_type": "stream",
          "name": "stdout",
          "text": [
            "CPU Time:  19.351628000000005\n"
          ]
        },
        {
          "output_type": "stream",
          "name": "stderr",
          "text": [
            "\n",
            "/usr/local/lib/python3.7/dist-packages/ipykernel_launcher.py:28: DeprecationWarning: time.clock has been deprecated in Python 3.3 and will be removed from Python 3.8: use time.perf_counter or time.process_time instead\n"
          ]
        }
      ]
    },
    {
      "cell_type": "markdown",
      "source": [
        "DSP Time for Lhoest(MEL)"
      ],
      "metadata": {
        "id": "c_y49nWSxhnU"
      }
    },
    {
      "cell_type": "code",
      "execution_count": null,
      "metadata": {
        "colab": {
          "base_uri": "https://localhost:8080/"
        },
        "id": "EX52NiTOxchO",
        "outputId": "4d31b42c-f2f2-45a4-fce6-6a8ac3dc619b"
      },
      "outputs": [
        {
          "output_type": "stream",
          "name": "stderr",
          "text": [
            "/usr/local/lib/python3.7/dist-packages/ipykernel_launcher.py:9: DeprecationWarning: time.clock has been deprecated in Python 3.3 and will be removed from Python 3.8: use time.perf_counter or time.process_time instead\n",
            "  if __name__ == '__main__':\n",
            "100%|██████████| 100/100 [01:45<00:00,  1.06s/it]"
          ]
        },
        {
          "output_type": "stream",
          "name": "stdout",
          "text": [
            "CPU Time:  23.916134999999997\n"
          ]
        },
        {
          "output_type": "stream",
          "name": "stderr",
          "text": [
            "\n",
            "/usr/local/lib/python3.7/dist-packages/ipykernel_launcher.py:26: DeprecationWarning: time.clock has been deprecated in Python 3.3 and will be removed from Python 3.8: use time.perf_counter or time.process_time instead\n"
          ]
        }
      ],
      "source": [
        "import pandas as pd\n",
        "import time\n",
        "import os,glob,skimage,librosa\n",
        "csvPth = '/content/drive/MyDrive/Thesis_Keras/UrbanSound8K/metadata/UrbanSound8K.csv'\n",
        "df = pd.read_csv(csvPth)\n",
        "\n",
        "df.head()\n",
        "\n",
        "start = time.clock()\n",
        "\n",
        "pre_y = model.predict(X_test)\n",
        "  \n",
        "for i in tqdm(range(100)):\n",
        "    file_name = '/content/drive/MyDrive/Thesis_Keras/UrbanSound8K/audio/fold' + str(df[\"fold\"][i]) + '/' + df[\"slice_file_name\"][i]\n",
        "    class_id = df[\"classID\"][i]\n",
        "\n",
        "    X, sample_rate = librosa.load(file_name, res_type='kaiser_fast')\n",
        "\n",
        "    mels = librosa.feature.melspectrogram(X, sr=sample_rate,\n",
        "                         n_mels=60,\n",
        "                         n_fft=2048,\n",
        "                         hop_length=1024,\n",
        "                         )\n",
        "    feature = mels\n",
        "    label = class_id\n",
        "end =  time.clock()\n",
        "print(\"CPU Time: \", end - start)\n",
        "    \n"
      ]
    },
    {
      "cell_type": "markdown",
      "source": [
        "DSP Time for HHCNN,Trivedi"
      ],
      "metadata": {
        "id": "1vBYFc8Mt7_F"
      }
    },
    {
      "cell_type": "code",
      "source": [
        "import pandas as pd\n",
        "import time\n",
        "import os,glob,skimage,librosa\n",
        "csvPth = '/content/drive/MyDrive/Thesis_Keras/UrbanSound8K/metadata/UrbanSound8K.csv'\n",
        "df = pd.read_csv(csvPth)\n",
        "\n",
        "df.head()\n",
        "\n",
        "start = time.clock()\n",
        "\n",
        "pre_y = model.predict(X_test)\n",
        "  \n",
        "for i in tqdm(range(100)):\n",
        "    file_name = '/content/drive/MyDrive/Thesis_Keras/UrbanSound8K/audio/fold' + str(df[\"fold\"][i]) + '/' + df[\"slice_file_name\"][i]\n",
        "    class_id = df[\"classID\"][i]\n",
        "\n",
        "    #X, sample_rate = librosa.load(file_name, res_type='kaiser_fast')\n",
        "    \n",
        "    X, sample_rate = librosa.load(file_name, res_type='kaiser_fast', duration=2.97)\n",
        "\n",
        "\n",
        "    #Setting for Trivedi\n",
        "    # mels = librosa.feature.melspectrogram(X, sr=sample_rate,n_mels=40,n_fft=256,\n",
        "    #                      hop_length=1000)\n",
        "    # Setting for HHCNN\n",
        "    mels = librosa.feature.melspectrogram(X, sr=sample_rate,n_mels=40,n_fft=256,\n",
        "                         hop_length=32)\n",
        "    feature = mels\n",
        "    label = class_id\n",
        "end =  time.clock()\n",
        "print(\"CPU Time: \", end - start)\n",
        "    \n"
      ],
      "metadata": {
        "colab": {
          "base_uri": "https://localhost:8080/"
        },
        "id": "ub3orDQkt6Wl",
        "outputId": "c6f29475-3490-42de-d3a2-d06f0e47b14e"
      },
      "execution_count": null,
      "outputs": [
        {
          "output_type": "stream",
          "name": "stderr",
          "text": [
            "/usr/local/lib/python3.7/dist-packages/ipykernel_launcher.py:9: DeprecationWarning: time.clock has been deprecated in Python 3.3 and will be removed from Python 3.8: use time.perf_counter or time.process_time instead\n",
            "  if __name__ == '__main__':\n",
            "100%|██████████| 100/100 [00:08<00:00, 12.23it/s]"
          ]
        },
        {
          "output_type": "stream",
          "name": "stdout",
          "text": [
            "CPU Time:  20.264692999999966\n"
          ]
        },
        {
          "output_type": "stream",
          "name": "stderr",
          "text": [
            "\n",
            "/usr/local/lib/python3.7/dist-packages/ipykernel_launcher.py:30: DeprecationWarning: time.clock has been deprecated in Python 3.3 and will be removed from Python 3.8: use time.perf_counter or time.process_time instead\n"
          ]
        }
      ]
    },
    {
      "cell_type": "markdown",
      "source": [
        "DSP Time for Rajo CNN"
      ],
      "metadata": {
        "id": "QzEsr2XSzUr9"
      }
    },
    {
      "cell_type": "code",
      "source": [],
      "metadata": {
        "id": "BW4CuZ7CzXl6"
      },
      "execution_count": null,
      "outputs": []
    },
    {
      "cell_type": "code",
      "source": [
        "import pandas as pd\n",
        "import time\n",
        "import os,glob,skimage,librosa\n",
        "csvPth = '/content/drive/MyDrive/Thesis_Keras/UrbanSound8K/metadata/UrbanSound8K.csv'\n",
        "df = pd.read_csv(csvPth)\n",
        "\n",
        "df.head()\n",
        "\n",
        "start = time.clock()\n",
        "\n",
        "pre_y = model.predict(X_test)\n",
        "  \n",
        "for i in tqdm(range(100)):\n",
        "    file_name = '/content/drive/MyDrive/Thesis_Keras/UrbanSound8K/audio/fold' + str(df[\"fold\"][i]) + '/' + df[\"slice_file_name\"][i]\n",
        "    class_id = df[\"classID\"][i]\n",
        "\n",
        "    #X, sample_rate = librosa.load(file_name, res_type='kaiser_fast')\n",
        "    \n",
        "    X, sample_rate = librosa.load(file_name, res_type='kaiser_fast', duration=2.97)\n",
        "\n",
        "\n",
        "    #Setting for Trivedi\n",
        "    # mels = librosa.feature.melspectrogram(X, sr=sample_rate,n_mels=40,n_fft=256,\n",
        "    #                      hop_length=1000)\n",
        "    # Setting for HHCNN\n",
        "    mfccs = librosa.feature.mfcc(y=X, sr=sample_rate, n_mfcc=40)\n",
        "\n",
        "end =  time.clock()\n",
        "print(\"CPU Time: \", end - start)\n",
        "    "
      ],
      "metadata": {
        "colab": {
          "base_uri": "https://localhost:8080/"
        },
        "id": "taK12X1xzT_8",
        "outputId": "4fb024b9-3d76-4a0e-e253-999046d58e03"
      },
      "execution_count": null,
      "outputs": [
        {
          "output_type": "stream",
          "name": "stderr",
          "text": [
            "/usr/local/lib/python3.7/dist-packages/ipykernel_launcher.py:9: DeprecationWarning: time.clock has been deprecated in Python 3.3 and will be removed from Python 3.8: use time.perf_counter or time.process_time instead\n",
            "  if __name__ == '__main__':\n",
            "100%|██████████| 100/100 [00:08<00:00, 12.25it/s]"
          ]
        },
        {
          "output_type": "stream",
          "name": "stdout",
          "text": [
            "CPU Time:  20.160206000000017\n"
          ]
        },
        {
          "output_type": "stream",
          "name": "stderr",
          "text": [
            "\n",
            "/usr/local/lib/python3.7/dist-packages/ipykernel_launcher.py:28: DeprecationWarning: time.clock has been deprecated in Python 3.3 and will be removed from Python 3.8: use time.perf_counter or time.process_time instead\n"
          ]
        }
      ]
    },
    {
      "cell_type": "markdown",
      "source": [
        "Not used"
      ],
      "metadata": {
        "id": "jvk-hG6Pz7CP"
      }
    },
    {
      "cell_type": "code",
      "source": [
        "# from sklearn.metrics import confusion_matrix, precision_recall_curve\n",
        "# from sklearn.metrics import roc_curve, auc\n",
        "# import itertools\n",
        "# def plot_confusion_matrix(cm,\n",
        "#                           target_names,\n",
        "#                           title='Confusion matrix, Model:Mel_Conv1',\n",
        "#                           cmap='Blues',\n",
        "#                           normalize=True):\n",
        "   \n",
        " \n",
        "#     accuracy = np.trace(cm) / float(np.sum(cm))\n",
        "#     misclass = 1 - accuracy\n",
        "    \n",
        "#     if cmap is None:\n",
        "#         cmap = plt.get_cmap('Blues')\n",
        "        \n",
        "#     plt.figure(figsize=(9, 7))\n",
        "# #    plt.figure()\n",
        "#     plt.imshow(cm, interpolation='nearest', cmap=cmap)\n",
        "#     plt.title(title)\n",
        "#     plt.colorbar()\n",
        "\n",
        "#     if target_names is not None:\n",
        "#         tick_marks = np.arange(len(target_names))\n",
        "#         plt.xticks(tick_marks, target_names, rotation=45)\n",
        "#         plt.yticks(tick_marks, target_names)\n",
        "\n",
        "#     if normalize:\n",
        "#         cm = cm.astype('float') / cm.sum(axis=1)[:, np.newaxis]\n",
        "\n",
        "\n",
        "#     thresh = cm.max() / 1.5 if normalize else cm.max() / 2\n",
        "#     for i, j in itertools.product(range(cm.shape[0]), range(cm.shape[1])):\n",
        "#         if normalize:\n",
        "#             plt.text(j, i, \"{:0.4f}\".format(cm[i, j]),\n",
        "#                      horizontalalignment=\"center\",\n",
        "#                      color=\"white\" if cm[i, j] > thresh else \"black\")\n",
        "#         else:\n",
        "#             plt.text(j, i, \"{:,}\".format(cm[i, j]),\n",
        "#                      horizontalalignment=\"center\",\n",
        "#                      color=\"white\" if cm[i, j] > thresh else \"black\")\n",
        "\n",
        "#     plt.tight_layout()\n",
        "#     plt.ylabel('True label',size=15)\n",
        "#     plt.xlabel('Predicted label\\naccuracy={:0.4f}; misclass={:0.4f}'.format(accuracy, misclass),size=15)\n",
        "#     plt.savefig('Confusion_Matrix.svg', format='svg',bbox_inches = 'tight')\n",
        "#     plt.savefig('Confusion_Matrix.png', format='png',bbox_inches = 'tight')\n",
        "#     plt.show()\n",
        "\n",
        "# # 显示混淆矩阵\n",
        "# def props_to_onehot(props):\n",
        "#     if isinstance(props, list):\n",
        "#         props = np.array(props)\n",
        "#     a = np.argmax(props, axis=1)\n",
        "#     b = np.zeros((len(a), props.shape[1]))\n",
        "#     b[np.arange(len(a)), a] = 1\n",
        "#     return b\n",
        "\n",
        "\n",
        "\n",
        "# def plot_confuse(model, x_val, y_val):\n",
        "#     predictions = props_to_onehot(model.predict(x_val)).argmax(axis=-1)\n",
        "    \n",
        "#     truelabel = y_val.argmax(axis=-1)   # 将one-hot转化为label\n",
        "#     conf_mat = confusion_matrix(y_true=truelabel, y_pred=predictions)\n",
        "#     plt.figure()\n",
        "#     plot_confusion_matrix(conf_mat, range(np.max(truelabel)+1))"
      ],
      "metadata": {
        "id": "pByyp_YAz6i2"
      },
      "execution_count": null,
      "outputs": []
    }
  ]
}